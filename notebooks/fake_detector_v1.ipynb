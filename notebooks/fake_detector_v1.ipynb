{
  "nbformat": 4,
  "nbformat_minor": 0,
  "metadata": {
    "colab": {
      "provenance": []
    },
    "kernelspec": {
      "name": "python3",
      "display_name": "Python 3"
    },
    "language_info": {
      "name": "python"
    }
  },
  "cells": [
    {
      "cell_type": "markdown",
      "source": [
        "## imports"
      ],
      "metadata": {
        "id": "x39iI2rYviT9"
      }
    },
    {
      "cell_type": "code",
      "source": [
        "import pandas as pd\n",
        "import numpy as np\n",
        "import matplotlib.pyplot as plt"
      ],
      "metadata": {
        "id": "fVq0lDI9b5eR"
      },
      "execution_count": 3,
      "outputs": []
    },
    {
      "cell_type": "code",
      "source": [
        "import tensorflow as tf"
      ],
      "metadata": {
        "id": "G_lz0Pzccou5"
      },
      "execution_count": 4,
      "outputs": []
    },
    {
      "cell_type": "markdown",
      "source": [
        "## Carregando os dados\n",
        "\n",
        "Para os fins a que se destina estre trabalho, iremos utilizar duas bases de dados contendo diversas notícias brasileiras reais e fakes, igualmente distribuidas.\n",
        "\n"
      ],
      "metadata": {
        "id": "t5WYJL9hvqqw"
      }
    },
    {
      "cell_type": "markdown",
      "source": [
        "0 - REAL\n",
        "\n",
        "1 - FAKE"
      ],
      "metadata": {
        "id": "taO51HJPqLeg"
      }
    },
    {
      "cell_type": "markdown",
      "source": [
        "#### Fake.br\n",
        "\n",
        "Link do projeto: https://github.com/roneysco/Fake.br-Corpus"
      ],
      "metadata": {
        "id": "H5cK6daublCx"
      }
    },
    {
      "cell_type": "code",
      "source": [
        "# tranformar os textos brutos do fakebr para um dataset\n",
        "# import os\n",
        "\n",
        "# fakebr_news = pd.DataFrame(columns=['text'])\n",
        "\n",
        "# texts_path = [\n",
        "#     (0, '/content/drive/MyDrive/Mentorama/projeto_final/datasets/fake.br/real/'),\n",
        "#     (1, '/content/drive/MyDrive/Mentorama/projeto_final/datasets/fake.br/fake/')\n",
        "# ]\n",
        "\n",
        "# for label, path in texts_path:\n",
        "#   for filename in os.listdir(path):\n",
        "#       with open(os.path.join(path, filename)) as f:\n",
        "#           observation = f.read()\n",
        "#           current_df = pd.DataFrame({'text': [observation], 'label': [int(label)]})\n",
        "#           fakebr_news = fakebr_news.append(current_df, ignore_index=True)\n",
        "\n",
        "# fakebr_news.to_csv('/content/drive/MyDrive/Mentorama/projeto_final/datasets/fakebr.csv')"
      ],
      "metadata": {
        "id": "0slsqzZvYO2x"
      },
      "execution_count": 5,
      "outputs": []
    },
    {
      "cell_type": "code",
      "source": [
        "fakebr_news = pd.read_csv('/content/drive/MyDrive/Mentorama/projeto_final/datasets/fakebr.csv', index_col=[0])\n",
        "fakebr_news"
      ],
      "metadata": {
        "colab": {
          "base_uri": "https://localhost:8080/",
          "height": 1000
        },
        "id": "Un-uSWLjqZiz",
        "outputId": "e8a4a05e-1960-4df8-8161-e0afd53152f4"
      },
      "execution_count": 6,
      "outputs": [
        {
          "output_type": "execute_result",
          "data": {
            "text/plain": [
              "                                                   text  label\n",
              "0     Julgamento da chapa Dilma-Temer pode resultar ...    0.0\n",
              "1     Os detetives voluntários que procuram aviões q...    0.0\n",
              "2      A Polícia Federal atribui crime de corrupção ...    0.0\n",
              "3     Entender objetivos dos EUA e pressionar Putin:...    0.0\n",
              "4     Quem é o capitão que liderou rebelião contra o...    0.0\n",
              "...                                                 ...    ...\n",
              "7195  Coreia do Norte ameaça explodir Nova York após...    1.0\n",
              "7196  Teoria afirma que escolta de Obama era formada...    1.0\n",
              "7197  Tognolli: Odebrecht vai dar tiro pra todo lado...    1.0\n",
              "7198  União gastou quase R$ 1 bilhão com diárias par...    1.0\n",
              "7199  Imigrantes ateiam fogo em centro de refugiados...    1.0\n",
              "\n",
              "[7200 rows x 2 columns]"
            ],
            "text/html": [
              "\n",
              "  <div id=\"df-fcd69b2e-464d-4cb8-8d25-f8d21babfdc4\">\n",
              "    <div class=\"colab-df-container\">\n",
              "      <div>\n",
              "<style scoped>\n",
              "    .dataframe tbody tr th:only-of-type {\n",
              "        vertical-align: middle;\n",
              "    }\n",
              "\n",
              "    .dataframe tbody tr th {\n",
              "        vertical-align: top;\n",
              "    }\n",
              "\n",
              "    .dataframe thead th {\n",
              "        text-align: right;\n",
              "    }\n",
              "</style>\n",
              "<table border=\"1\" class=\"dataframe\">\n",
              "  <thead>\n",
              "    <tr style=\"text-align: right;\">\n",
              "      <th></th>\n",
              "      <th>text</th>\n",
              "      <th>label</th>\n",
              "    </tr>\n",
              "  </thead>\n",
              "  <tbody>\n",
              "    <tr>\n",
              "      <th>0</th>\n",
              "      <td>Julgamento da chapa Dilma-Temer pode resultar ...</td>\n",
              "      <td>0.0</td>\n",
              "    </tr>\n",
              "    <tr>\n",
              "      <th>1</th>\n",
              "      <td>Os detetives voluntários que procuram aviões q...</td>\n",
              "      <td>0.0</td>\n",
              "    </tr>\n",
              "    <tr>\n",
              "      <th>2</th>\n",
              "      <td>A Polícia Federal atribui crime de corrupção ...</td>\n",
              "      <td>0.0</td>\n",
              "    </tr>\n",
              "    <tr>\n",
              "      <th>3</th>\n",
              "      <td>Entender objetivos dos EUA e pressionar Putin:...</td>\n",
              "      <td>0.0</td>\n",
              "    </tr>\n",
              "    <tr>\n",
              "      <th>4</th>\n",
              "      <td>Quem é o capitão que liderou rebelião contra o...</td>\n",
              "      <td>0.0</td>\n",
              "    </tr>\n",
              "    <tr>\n",
              "      <th>...</th>\n",
              "      <td>...</td>\n",
              "      <td>...</td>\n",
              "    </tr>\n",
              "    <tr>\n",
              "      <th>7195</th>\n",
              "      <td>Coreia do Norte ameaça explodir Nova York após...</td>\n",
              "      <td>1.0</td>\n",
              "    </tr>\n",
              "    <tr>\n",
              "      <th>7196</th>\n",
              "      <td>Teoria afirma que escolta de Obama era formada...</td>\n",
              "      <td>1.0</td>\n",
              "    </tr>\n",
              "    <tr>\n",
              "      <th>7197</th>\n",
              "      <td>Tognolli: Odebrecht vai dar tiro pra todo lado...</td>\n",
              "      <td>1.0</td>\n",
              "    </tr>\n",
              "    <tr>\n",
              "      <th>7198</th>\n",
              "      <td>União gastou quase R$ 1 bilhão com diárias par...</td>\n",
              "      <td>1.0</td>\n",
              "    </tr>\n",
              "    <tr>\n",
              "      <th>7199</th>\n",
              "      <td>Imigrantes ateiam fogo em centro de refugiados...</td>\n",
              "      <td>1.0</td>\n",
              "    </tr>\n",
              "  </tbody>\n",
              "</table>\n",
              "<p>7200 rows × 2 columns</p>\n",
              "</div>\n",
              "      <button class=\"colab-df-convert\" onclick=\"convertToInteractive('df-fcd69b2e-464d-4cb8-8d25-f8d21babfdc4')\"\n",
              "              title=\"Convert this dataframe to an interactive table.\"\n",
              "              style=\"display:none;\">\n",
              "        \n",
              "  <svg xmlns=\"http://www.w3.org/2000/svg\" height=\"24px\"viewBox=\"0 0 24 24\"\n",
              "       width=\"24px\">\n",
              "    <path d=\"M0 0h24v24H0V0z\" fill=\"none\"/>\n",
              "    <path d=\"M18.56 5.44l.94 2.06.94-2.06 2.06-.94-2.06-.94-.94-2.06-.94 2.06-2.06.94zm-11 1L8.5 8.5l.94-2.06 2.06-.94-2.06-.94L8.5 2.5l-.94 2.06-2.06.94zm10 10l.94 2.06.94-2.06 2.06-.94-2.06-.94-.94-2.06-.94 2.06-2.06.94z\"/><path d=\"M17.41 7.96l-1.37-1.37c-.4-.4-.92-.59-1.43-.59-.52 0-1.04.2-1.43.59L10.3 9.45l-7.72 7.72c-.78.78-.78 2.05 0 2.83L4 21.41c.39.39.9.59 1.41.59.51 0 1.02-.2 1.41-.59l7.78-7.78 2.81-2.81c.8-.78.8-2.07 0-2.86zM5.41 20L4 18.59l7.72-7.72 1.47 1.35L5.41 20z\"/>\n",
              "  </svg>\n",
              "      </button>\n",
              "      \n",
              "  <style>\n",
              "    .colab-df-container {\n",
              "      display:flex;\n",
              "      flex-wrap:wrap;\n",
              "      gap: 12px;\n",
              "    }\n",
              "\n",
              "    .colab-df-convert {\n",
              "      background-color: #E8F0FE;\n",
              "      border: none;\n",
              "      border-radius: 50%;\n",
              "      cursor: pointer;\n",
              "      display: none;\n",
              "      fill: #1967D2;\n",
              "      height: 32px;\n",
              "      padding: 0 0 0 0;\n",
              "      width: 32px;\n",
              "    }\n",
              "\n",
              "    .colab-df-convert:hover {\n",
              "      background-color: #E2EBFA;\n",
              "      box-shadow: 0px 1px 2px rgba(60, 64, 67, 0.3), 0px 1px 3px 1px rgba(60, 64, 67, 0.15);\n",
              "      fill: #174EA6;\n",
              "    }\n",
              "\n",
              "    [theme=dark] .colab-df-convert {\n",
              "      background-color: #3B4455;\n",
              "      fill: #D2E3FC;\n",
              "    }\n",
              "\n",
              "    [theme=dark] .colab-df-convert:hover {\n",
              "      background-color: #434B5C;\n",
              "      box-shadow: 0px 1px 3px 1px rgba(0, 0, 0, 0.15);\n",
              "      filter: drop-shadow(0px 1px 2px rgba(0, 0, 0, 0.3));\n",
              "      fill: #FFFFFF;\n",
              "    }\n",
              "  </style>\n",
              "\n",
              "      <script>\n",
              "        const buttonEl =\n",
              "          document.querySelector('#df-fcd69b2e-464d-4cb8-8d25-f8d21babfdc4 button.colab-df-convert');\n",
              "        buttonEl.style.display =\n",
              "          google.colab.kernel.accessAllowed ? 'block' : 'none';\n",
              "\n",
              "        async function convertToInteractive(key) {\n",
              "          const element = document.querySelector('#df-fcd69b2e-464d-4cb8-8d25-f8d21babfdc4');\n",
              "          const dataTable =\n",
              "            await google.colab.kernel.invokeFunction('convertToInteractive',\n",
              "                                                     [key], {});\n",
              "          if (!dataTable) return;\n",
              "\n",
              "          const docLinkHtml = 'Like what you see? Visit the ' +\n",
              "            '<a target=\"_blank\" href=https://colab.research.google.com/notebooks/data_table.ipynb>data table notebook</a>'\n",
              "            + ' to learn more about interactive tables.';\n",
              "          element.innerHTML = '';\n",
              "          dataTable['output_type'] = 'display_data';\n",
              "          await google.colab.output.renderOutput(dataTable, element);\n",
              "          const docLink = document.createElement('div');\n",
              "          docLink.innerHTML = docLinkHtml;\n",
              "          element.appendChild(docLink);\n",
              "        }\n",
              "      </script>\n",
              "    </div>\n",
              "  </div>\n",
              "  "
            ]
          },
          "metadata": {},
          "execution_count": 6
        }
      ]
    },
    {
      "cell_type": "code",
      "source": [
        "# verificando a distribuição da variável target\n",
        "fakebr_news.label.hist(bins=3)"
      ],
      "metadata": {
        "colab": {
          "base_uri": "https://localhost:8080/",
          "height": 106
        },
        "id": "9X__cQk3YO5K",
        "outputId": "15f86537-bdca-4a60-c31a-f448e818c403"
      },
      "execution_count": 7,
      "outputs": [
        {
          "output_type": "execute_result",
          "data": {
            "text/plain": [
              "<matplotlib.axes._subplots.AxesSubplot at 0x7fe29292c990>"
            ]
          },
          "metadata": {},
          "execution_count": 7
        },
        {
          "output_type": "display_data",
          "data": {
            "text/plain": [
              "<Figure size 432x288 with 1 Axes>"
            ],
            "image/png": "[encoded data removed]"
          },
          "metadata": {
            "needs_background": "light"
          }
        }
      ]
    },
    {
      "cell_type": "code",
      "source": [
        "# categorizando a nosso target\n",
        "fakebr_news['label'] = pd.Categorical(fakebr_news['label'])\n",
        "fakebr_news['label'] = fakebr_news.label.cat.codes"
      ],
      "metadata": {
        "id": "JBiWGhzgb9An"
      },
      "execution_count": 8,
      "outputs": []
    },
    {
      "cell_type": "code",
      "source": [
        "fakebr_news.dtypes"
      ],
      "metadata": {
        "colab": {
          "base_uri": "https://localhost:8080/"
        },
        "id": "9opj-3Dzb0xS",
        "outputId": "b88180cd-be8d-45dc-e239-5e1d20788744"
      },
      "execution_count": 9,
      "outputs": [
        {
          "output_type": "execute_result",
          "data": {
            "text/plain": [
              "text     object\n",
              "label      int8\n",
              "dtype: object"
            ]
          },
          "metadata": {},
          "execution_count": 9
        }
      ]
    },
    {
      "cell_type": "markdown",
      "source": [
        "#### FakeRecogna\n",
        "\n",
        "FakeRecogna é um conjunto de dados composto por notícias reais e falsas. A notícia real não está diretamente ligada às notícias falsas e vice-versa, o que pode levar a uma classificação tendenciosa. A coleta de notícias foi realizada por crawlers desenvolvidos para mineração de páginas de notícias de agências conhecidas e de grande relevância nacional. Os web crawlers foram desenvolvidos com base em cada página analisada, onde as informações extraídas são primeiramente separadas em categorias e depois agrupadas por datas. A pluralidade de notícias em várias páginas e os diferentes estilos de escrita proporcionam ao conjunto de dados uma grande diversidade para análise de processamento de linguagem natural e algoritmos de aprendizado de máquina.\n",
        "\n",
        "Link do projeto: https://github.com/Gabriel-Lino-Garcia/FakeRecogna"
      ],
      "metadata": {
        "id": "oxWw2NZ-bolX"
      }
    },
    {
      "cell_type": "code",
      "source": [
        "recogna_news = pd.read_csv('/content/drive/MyDrive/Mentorama/projeto_final/datasets/FakeRecogna_no_removal_words_1_.csv', index_col=[0])\n",
        "\n",
        "recogna_news['label'] = recogna_news['Classe'].apply(lambda x: 1 if x == 0 else 0)\n",
        "recogna_news['text'] = recogna_news['Noticia'].apply(lambda x: str(x))\n",
        "\n",
        "recogna_news = recogna_news.drop(['Subtitulo', 'Noticia', 'Categoria', 'Data', 'Autor', 'URL', 'Classe'], axis=1)\n",
        "recogna_news = recogna_news.reset_index(drop=True)\n",
        "recogna_news.head(1)"
      ],
      "metadata": {
        "colab": {
          "base_uri": "https://localhost:8080/",
          "height": 232
        },
        "id": "tWqz6Ocyb9Qi",
        "outputId": "aabd201a-ed6a-4ead-80c4-71d99a49dba2"
      },
      "execution_count": 10,
      "outputs": [
        {
          "output_type": "execute_result",
          "data": {
            "text/plain": [
              "   label                                               text\n",
              "0      1  bomba lira fraudar o votação brasília explodir..."
            ],
            "text/html": [
              "\n",
              "  <div id=\"df-7df8f97c-e52b-46d0-b464-0c1c951e4874\">\n",
              "    <div class=\"colab-df-container\">\n",
              "      <div>\n",
              "<style scoped>\n",
              "    .dataframe tbody tr th:only-of-type {\n",
              "        vertical-align: middle;\n",
              "    }\n",
              "\n",
              "    .dataframe tbody tr th {\n",
              "        vertical-align: top;\n",
              "    }\n",
              "\n",
              "    .dataframe thead th {\n",
              "        text-align: right;\n",
              "    }\n",
              "</style>\n",
              "<table border=\"1\" class=\"dataframe\">\n",
              "  <thead>\n",
              "    <tr style=\"text-align: right;\">\n",
              "      <th></th>\n",
              "      <th>label</th>\n",
              "      <th>text</th>\n",
              "    </tr>\n",
              "  </thead>\n",
              "  <tbody>\n",
              "    <tr>\n",
              "      <th>0</th>\n",
              "      <td>1</td>\n",
              "      <td>bomba lira fraudar o votação brasília explodir...</td>\n",
              "    </tr>\n",
              "  </tbody>\n",
              "</table>\n",
              "</div>\n",
              "      <button class=\"colab-df-convert\" onclick=\"convertToInteractive('df-7df8f97c-e52b-46d0-b464-0c1c951e4874')\"\n",
              "              title=\"Convert this dataframe to an interactive table.\"\n",
              "              style=\"display:none;\">\n",
              "        \n",
              "  <svg xmlns=\"http://www.w3.org/2000/svg\" height=\"24px\"viewBox=\"0 0 24 24\"\n",
              "       width=\"24px\">\n",
              "    <path d=\"M0 0h24v24H0V0z\" fill=\"none\"/>\n",
              "    <path d=\"M18.56 5.44l.94 2.06.94-2.06 2.06-.94-2.06-.94-.94-2.06-.94 2.06-2.06.94zm-11 1L8.5 8.5l.94-2.06 2.06-.94-2.06-.94L8.5 2.5l-.94 2.06-2.06.94zm10 10l.94 2.06.94-2.06 2.06-.94-2.06-.94-.94-2.06-.94 2.06-2.06.94z\"/><path d=\"M17.41 7.96l-1.37-1.37c-.4-.4-.92-.59-1.43-.59-.52 0-1.04.2-1.43.59L10.3 9.45l-7.72 7.72c-.78.78-.78 2.05 0 2.83L4 21.41c.39.39.9.59 1.41.59.51 0 1.02-.2 1.41-.59l7.78-7.78 2.81-2.81c.8-.78.8-2.07 0-2.86zM5.41 20L4 18.59l7.72-7.72 1.47 1.35L5.41 20z\"/>\n",
              "  </svg>\n",
              "      </button>\n",
              "      \n",
              "  <style>\n",
              "    .colab-df-container {\n",
              "      display:flex;\n",
              "      flex-wrap:wrap;\n",
              "      gap: 12px;\n",
              "    }\n",
              "\n",
              "    .colab-df-convert {\n",
              "      background-color: #E8F0FE;\n",
              "      border: none;\n",
              "      border-radius: 50%;\n",
              "      cursor: pointer;\n",
              "      display: none;\n",
              "      fill: #1967D2;\n",
              "      height: 32px;\n",
              "      padding: 0 0 0 0;\n",
              "      width: 32px;\n",
              "    }\n",
              "\n",
              "    .colab-df-convert:hover {\n",
              "      background-color: #E2EBFA;\n",
              "      box-shadow: 0px 1px 2px rgba(60, 64, 67, 0.3), 0px 1px 3px 1px rgba(60, 64, 67, 0.15);\n",
              "      fill: #174EA6;\n",
              "    }\n",
              "\n",
              "    [theme=dark] .colab-df-convert {\n",
              "      background-color: #3B4455;\n",
              "      fill: #D2E3FC;\n",
              "    }\n",
              "\n",
              "    [theme=dark] .colab-df-convert:hover {\n",
              "      background-color: #434B5C;\n",
              "      box-shadow: 0px 1px 3px 1px rgba(0, 0, 0, 0.15);\n",
              "      filter: drop-shadow(0px 1px 2px rgba(0, 0, 0, 0.3));\n",
              "      fill: #FFFFFF;\n",
              "    }\n",
              "  </style>\n",
              "\n",
              "      <script>\n",
              "        const buttonEl =\n",
              "          document.querySelector('#df-7df8f97c-e52b-46d0-b464-0c1c951e4874 button.colab-df-convert');\n",
              "        buttonEl.style.display =\n",
              "          google.colab.kernel.accessAllowed ? 'block' : 'none';\n",
              "\n",
              "        async function convertToInteractive(key) {\n",
              "          const element = document.querySelector('#df-7df8f97c-e52b-46d0-b464-0c1c951e4874');\n",
              "          const dataTable =\n",
              "            await google.colab.kernel.invokeFunction('convertToInteractive',\n",
              "                                                     [key], {});\n",
              "          if (!dataTable) return;\n",
              "\n",
              "          const docLinkHtml = 'Like what you see? Visit the ' +\n",
              "            '<a target=\"_blank\" href=https://colab.research.google.com/notebooks/data_table.ipynb>data table notebook</a>'\n",
              "            + ' to learn more about interactive tables.';\n",
              "          element.innerHTML = '';\n",
              "          dataTable['output_type'] = 'display_data';\n",
              "          await google.colab.output.renderOutput(dataTable, element);\n",
              "          const docLink = document.createElement('div');\n",
              "          docLink.innerHTML = docLinkHtml;\n",
              "          element.appendChild(docLink);\n",
              "        }\n",
              "      </script>\n",
              "    </div>\n",
              "  </div>\n",
              "  "
            ]
          },
          "metadata": {},
          "execution_count": 10
        }
      ]
    },
    {
      "cell_type": "code",
      "source": [
        "recogna_news.dtypes"
      ],
      "metadata": {
        "colab": {
          "base_uri": "https://localhost:8080/"
        },
        "id": "RiKrnGJzdHWQ",
        "outputId": "c1f517b0-bb9c-49f2-b991-717fa7773908"
      },
      "execution_count": 11,
      "outputs": [
        {
          "output_type": "execute_result",
          "data": {
            "text/plain": [
              "label     int64\n",
              "text     object\n",
              "dtype: object"
            ]
          },
          "metadata": {},
          "execution_count": 11
        }
      ]
    },
    {
      "cell_type": "code",
      "source": [
        "# categorize labels\n",
        "recogna_news['label'] = pd.Categorical(recogna_news['label'])\n",
        "recogna_news['label'] = recogna_news.label.cat.codes\n",
        "\n",
        "recogna_news.head(10)"
      ],
      "metadata": {
        "colab": {
          "base_uri": "https://localhost:8080/",
          "height": 931
        },
        "id": "4IGcBOxPdI0Y",
        "outputId": "0d6192c5-1977-4f25-8fb1-837333b573bb"
      },
      "execution_count": 12,
      "outputs": [
        {
          "output_type": "execute_result",
          "data": {
            "text/plain": [
              "   label                                               text\n",
              "0      1  bomba lira fraudar o votação brasília explodir...\n",
              "1      0  o whatsapp liberar quinta-feira atualização ap...\n",
              "2      0  debater propor o cidade o campanha prefeitura ...\n",
              "3      0  o alesp assembleia legislativo paulo aprovar h...\n",
              "4      1  “ fauci aprovar o hidroxicloroquina haver ano ...\n",
              "5      0  dia noite acessório passar o código vestimenta...\n",
              "6      1  “ pra variar o esquerdo mentir foto e vídeo an...\n",
              "7      0  o provável origem coronavírus mercar comercial...\n",
              "8      0  o agência nacional vigilância sanitário anvisa...\n",
              "9      1  sucessivo falhar umar d atribuir diretamente o..."
            ],
            "text/html": [
              "\n",
              "  <div id=\"df-603fa71e-62f9-49d9-98b1-6f131d784430\">\n",
              "    <div class=\"colab-df-container\">\n",
              "      <div>\n",
              "<style scoped>\n",
              "    .dataframe tbody tr th:only-of-type {\n",
              "        vertical-align: middle;\n",
              "    }\n",
              "\n",
              "    .dataframe tbody tr th {\n",
              "        vertical-align: top;\n",
              "    }\n",
              "\n",
              "    .dataframe thead th {\n",
              "        text-align: right;\n",
              "    }\n",
              "</style>\n",
              "<table border=\"1\" class=\"dataframe\">\n",
              "  <thead>\n",
              "    <tr style=\"text-align: right;\">\n",
              "      <th></th>\n",
              "      <th>label</th>\n",
              "      <th>text</th>\n",
              "    </tr>\n",
              "  </thead>\n",
              "  <tbody>\n",
              "    <tr>\n",
              "      <th>0</th>\n",
              "      <td>1</td>\n",
              "      <td>bomba lira fraudar o votação brasília explodir...</td>\n",
              "    </tr>\n",
              "    <tr>\n",
              "      <th>1</th>\n",
              "      <td>0</td>\n",
              "      <td>o whatsapp liberar quinta-feira atualização ap...</td>\n",
              "    </tr>\n",
              "    <tr>\n",
              "      <th>2</th>\n",
              "      <td>0</td>\n",
              "      <td>debater propor o cidade o campanha prefeitura ...</td>\n",
              "    </tr>\n",
              "    <tr>\n",
              "      <th>3</th>\n",
              "      <td>0</td>\n",
              "      <td>o alesp assembleia legislativo paulo aprovar h...</td>\n",
              "    </tr>\n",
              "    <tr>\n",
              "      <th>4</th>\n",
              "      <td>1</td>\n",
              "      <td>“ fauci aprovar o hidroxicloroquina haver ano ...</td>\n",
              "    </tr>\n",
              "    <tr>\n",
              "      <th>5</th>\n",
              "      <td>0</td>\n",
              "      <td>dia noite acessório passar o código vestimenta...</td>\n",
              "    </tr>\n",
              "    <tr>\n",
              "      <th>6</th>\n",
              "      <td>1</td>\n",
              "      <td>“ pra variar o esquerdo mentir foto e vídeo an...</td>\n",
              "    </tr>\n",
              "    <tr>\n",
              "      <th>7</th>\n",
              "      <td>0</td>\n",
              "      <td>o provável origem coronavírus mercar comercial...</td>\n",
              "    </tr>\n",
              "    <tr>\n",
              "      <th>8</th>\n",
              "      <td>0</td>\n",
              "      <td>o agência nacional vigilância sanitário anvisa...</td>\n",
              "    </tr>\n",
              "    <tr>\n",
              "      <th>9</th>\n",
              "      <td>1</td>\n",
              "      <td>sucessivo falhar umar d atribuir diretamente o...</td>\n",
              "    </tr>\n",
              "  </tbody>\n",
              "</table>\n",
              "</div>\n",
              "      <button class=\"colab-df-convert\" onclick=\"convertToInteractive('df-603fa71e-62f9-49d9-98b1-6f131d784430')\"\n",
              "              title=\"Convert this dataframe to an interactive table.\"\n",
              "              style=\"display:none;\">\n",
              "        \n",
              "  <svg xmlns=\"http://www.w3.org/2000/svg\" height=\"24px\"viewBox=\"0 0 24 24\"\n",
              "       width=\"24px\">\n",
              "    <path d=\"M0 0h24v24H0V0z\" fill=\"none\"/>\n",
              "    <path d=\"M18.56 5.44l.94 2.06.94-2.06 2.06-.94-2.06-.94-.94-2.06-.94 2.06-2.06.94zm-11 1L8.5 8.5l.94-2.06 2.06-.94-2.06-.94L8.5 2.5l-.94 2.06-2.06.94zm10 10l.94 2.06.94-2.06 2.06-.94-2.06-.94-.94-2.06-.94 2.06-2.06.94z\"/><path d=\"M17.41 7.96l-1.37-1.37c-.4-.4-.92-.59-1.43-.59-.52 0-1.04.2-1.43.59L10.3 9.45l-7.72 7.72c-.78.78-.78 2.05 0 2.83L4 21.41c.39.39.9.59 1.41.59.51 0 1.02-.2 1.41-.59l7.78-7.78 2.81-2.81c.8-.78.8-2.07 0-2.86zM5.41 20L4 18.59l7.72-7.72 1.47 1.35L5.41 20z\"/>\n",
              "  </svg>\n",
              "      </button>\n",
              "      \n",
              "  <style>\n",
              "    .colab-df-container {\n",
              "      display:flex;\n",
              "      flex-wrap:wrap;\n",
              "      gap: 12px;\n",
              "    }\n",
              "\n",
              "    .colab-df-convert {\n",
              "      background-color: #E8F0FE;\n",
              "      border: none;\n",
              "      border-radius: 50%;\n",
              "      cursor: pointer;\n",
              "      display: none;\n",
              "      fill: #1967D2;\n",
              "      height: 32px;\n",
              "      padding: 0 0 0 0;\n",
              "      width: 32px;\n",
              "    }\n",
              "\n",
              "    .colab-df-convert:hover {\n",
              "      background-color: #E2EBFA;\n",
              "      box-shadow: 0px 1px 2px rgba(60, 64, 67, 0.3), 0px 1px 3px 1px rgba(60, 64, 67, 0.15);\n",
              "      fill: #174EA6;\n",
              "    }\n",
              "\n",
              "    [theme=dark] .colab-df-convert {\n",
              "      background-color: #3B4455;\n",
              "      fill: #D2E3FC;\n",
              "    }\n",
              "\n",
              "    [theme=dark] .colab-df-convert:hover {\n",
              "      background-color: #434B5C;\n",
              "      box-shadow: 0px 1px 3px 1px rgba(0, 0, 0, 0.15);\n",
              "      filter: drop-shadow(0px 1px 2px rgba(0, 0, 0, 0.3));\n",
              "      fill: #FFFFFF;\n",
              "    }\n",
              "  </style>\n",
              "\n",
              "      <script>\n",
              "        const buttonEl =\n",
              "          document.querySelector('#df-603fa71e-62f9-49d9-98b1-6f131d784430 button.colab-df-convert');\n",
              "        buttonEl.style.display =\n",
              "          google.colab.kernel.accessAllowed ? 'block' : 'none';\n",
              "\n",
              "        async function convertToInteractive(key) {\n",
              "          const element = document.querySelector('#df-603fa71e-62f9-49d9-98b1-6f131d784430');\n",
              "          const dataTable =\n",
              "            await google.colab.kernel.invokeFunction('convertToInteractive',\n",
              "                                                     [key], {});\n",
              "          if (!dataTable) return;\n",
              "\n",
              "          const docLinkHtml = 'Like what you see? Visit the ' +\n",
              "            '<a target=\"_blank\" href=https://colab.research.google.com/notebooks/data_table.ipynb>data table notebook</a>'\n",
              "            + ' to learn more about interactive tables.';\n",
              "          element.innerHTML = '';\n",
              "          dataTable['output_type'] = 'display_data';\n",
              "          await google.colab.output.renderOutput(dataTable, element);\n",
              "          const docLink = document.createElement('div');\n",
              "          docLink.innerHTML = docLinkHtml;\n",
              "          element.appendChild(docLink);\n",
              "        }\n",
              "      </script>\n",
              "    </div>\n",
              "  </div>\n",
              "  "
            ]
          },
          "metadata": {},
          "execution_count": 12
        }
      ]
    },
    {
      "cell_type": "code",
      "source": [
        "recogna_news.shape\n"
      ],
      "metadata": {
        "colab": {
          "base_uri": "https://localhost:8080/"
        },
        "id": "ylgodta0iJbz",
        "outputId": "19670fcc-bb33-4cab-8f4c-18568f51fde3"
      },
      "execution_count": 13,
      "outputs": [
        {
          "output_type": "execute_result",
          "data": {
            "text/plain": [
              "(11902, 2)"
            ]
          },
          "metadata": {},
          "execution_count": 13
        }
      ]
    },
    {
      "cell_type": "code",
      "source": [
        "recogna_news.dtypes\n"
      ],
      "metadata": {
        "colab": {
          "base_uri": "https://localhost:8080/"
        },
        "id": "66aJP9Hnqs64",
        "outputId": "4fe14485-017f-430d-e436-59d61a8aa6cd"
      },
      "execution_count": 14,
      "outputs": [
        {
          "output_type": "execute_result",
          "data": {
            "text/plain": [
              "label      int8\n",
              "text     object\n",
              "dtype: object"
            ]
          },
          "metadata": {},
          "execution_count": 14
        }
      ]
    },
    {
      "cell_type": "markdown",
      "source": [
        "#### Juntando os dois datasets"
      ],
      "metadata": {
        "id": "rFWM2yHre5jt"
      }
    },
    {
      "cell_type": "code",
      "source": [
        "final_data = pd.concat([recogna_news, fakebr_news], ignore_index=True)\n",
        "final_data"
      ],
      "metadata": {
        "colab": {
          "base_uri": "https://localhost:8080/",
          "height": 424
        },
        "id": "MpHUXDlLe8qb",
        "outputId": "167743cb-048c-4d6d-ab83-e53409bf6108"
      },
      "execution_count": 15,
      "outputs": [
        {
          "output_type": "execute_result",
          "data": {
            "text/plain": [
              "       label                                               text\n",
              "0          1  bomba lira fraudar o votação brasília explodir...\n",
              "1          0  o whatsapp liberar quinta-feira atualização ap...\n",
              "2          0  debater propor o cidade o campanha prefeitura ...\n",
              "3          0  o alesp assembleia legislativo paulo aprovar h...\n",
              "4          1  “ fauci aprovar o hidroxicloroquina haver ano ...\n",
              "...      ...                                                ...\n",
              "19097      1  Coreia do Norte ameaça explodir Nova York após...\n",
              "19098      1  Teoria afirma que escolta de Obama era formada...\n",
              "19099      1  Tognolli: Odebrecht vai dar tiro pra todo lado...\n",
              "19100      1  União gastou quase R$ 1 bilhão com diárias par...\n",
              "19101      1  Imigrantes ateiam fogo em centro de refugiados...\n",
              "\n",
              "[19102 rows x 2 columns]"
            ],
            "text/html": [
              "\n",
              "  <div id=\"df-0bc3f44d-3a0f-48b2-8702-301dee6893a6\">\n",
              "    <div class=\"colab-df-container\">\n",
              "      <div>\n",
              "<style scoped>\n",
              "    .dataframe tbody tr th:only-of-type {\n",
              "        vertical-align: middle;\n",
              "    }\n",
              "\n",
              "    .dataframe tbody tr th {\n",
              "        vertical-align: top;\n",
              "    }\n",
              "\n",
              "    .dataframe thead th {\n",
              "        text-align: right;\n",
              "    }\n",
              "</style>\n",
              "<table border=\"1\" class=\"dataframe\">\n",
              "  <thead>\n",
              "    <tr style=\"text-align: right;\">\n",
              "      <th></th>\n",
              "      <th>label</th>\n",
              "      <th>text</th>\n",
              "    </tr>\n",
              "  </thead>\n",
              "  <tbody>\n",
              "    <tr>\n",
              "      <th>0</th>\n",
              "      <td>1</td>\n",
              "      <td>bomba lira fraudar o votação brasília explodir...</td>\n",
              "    </tr>\n",
              "    <tr>\n",
              "      <th>1</th>\n",
              "      <td>0</td>\n",
              "      <td>o whatsapp liberar quinta-feira atualização ap...</td>\n",
              "    </tr>\n",
              "    <tr>\n",
              "      <th>2</th>\n",
              "      <td>0</td>\n",
              "      <td>debater propor o cidade o campanha prefeitura ...</td>\n",
              "    </tr>\n",
              "    <tr>\n",
              "      <th>3</th>\n",
              "      <td>0</td>\n",
              "      <td>o alesp assembleia legislativo paulo aprovar h...</td>\n",
              "    </tr>\n",
              "    <tr>\n",
              "      <th>4</th>\n",
              "      <td>1</td>\n",
              "      <td>“ fauci aprovar o hidroxicloroquina haver ano ...</td>\n",
              "    </tr>\n",
              "    <tr>\n",
              "      <th>...</th>\n",
              "      <td>...</td>\n",
              "      <td>...</td>\n",
              "    </tr>\n",
              "    <tr>\n",
              "      <th>19097</th>\n",
              "      <td>1</td>\n",
              "      <td>Coreia do Norte ameaça explodir Nova York após...</td>\n",
              "    </tr>\n",
              "    <tr>\n",
              "      <th>19098</th>\n",
              "      <td>1</td>\n",
              "      <td>Teoria afirma que escolta de Obama era formada...</td>\n",
              "    </tr>\n",
              "    <tr>\n",
              "      <th>19099</th>\n",
              "      <td>1</td>\n",
              "      <td>Tognolli: Odebrecht vai dar tiro pra todo lado...</td>\n",
              "    </tr>\n",
              "    <tr>\n",
              "      <th>19100</th>\n",
              "      <td>1</td>\n",
              "      <td>União gastou quase R$ 1 bilhão com diárias par...</td>\n",
              "    </tr>\n",
              "    <tr>\n",
              "      <th>19101</th>\n",
              "      <td>1</td>\n",
              "      <td>Imigrantes ateiam fogo em centro de refugiados...</td>\n",
              "    </tr>\n",
              "  </tbody>\n",
              "</table>\n",
              "<p>19102 rows × 2 columns</p>\n",
              "</div>\n",
              "      <button class=\"colab-df-convert\" onclick=\"convertToInteractive('df-0bc3f44d-3a0f-48b2-8702-301dee6893a6')\"\n",
              "              title=\"Convert this dataframe to an interactive table.\"\n",
              "              style=\"display:none;\">\n",
              "        \n",
              "  <svg xmlns=\"http://www.w3.org/2000/svg\" height=\"24px\"viewBox=\"0 0 24 24\"\n",
              "       width=\"24px\">\n",
              "    <path d=\"M0 0h24v24H0V0z\" fill=\"none\"/>\n",
              "    <path d=\"M18.56 5.44l.94 2.06.94-2.06 2.06-.94-2.06-.94-.94-2.06-.94 2.06-2.06.94zm-11 1L8.5 8.5l.94-2.06 2.06-.94-2.06-.94L8.5 2.5l-.94 2.06-2.06.94zm10 10l.94 2.06.94-2.06 2.06-.94-2.06-.94-.94-2.06-.94 2.06-2.06.94z\"/><path d=\"M17.41 7.96l-1.37-1.37c-.4-.4-.92-.59-1.43-.59-.52 0-1.04.2-1.43.59L10.3 9.45l-7.72 7.72c-.78.78-.78 2.05 0 2.83L4 21.41c.39.39.9.59 1.41.59.51 0 1.02-.2 1.41-.59l7.78-7.78 2.81-2.81c.8-.78.8-2.07 0-2.86zM5.41 20L4 18.59l7.72-7.72 1.47 1.35L5.41 20z\"/>\n",
              "  </svg>\n",
              "      </button>\n",
              "      \n",
              "  <style>\n",
              "    .colab-df-container {\n",
              "      display:flex;\n",
              "      flex-wrap:wrap;\n",
              "      gap: 12px;\n",
              "    }\n",
              "\n",
              "    .colab-df-convert {\n",
              "      background-color: #E8F0FE;\n",
              "      border: none;\n",
              "      border-radius: 50%;\n",
              "      cursor: pointer;\n",
              "      display: none;\n",
              "      fill: #1967D2;\n",
              "      height: 32px;\n",
              "      padding: 0 0 0 0;\n",
              "      width: 32px;\n",
              "    }\n",
              "\n",
              "    .colab-df-convert:hover {\n",
              "      background-color: #E2EBFA;\n",
              "      box-shadow: 0px 1px 2px rgba(60, 64, 67, 0.3), 0px 1px 3px 1px rgba(60, 64, 67, 0.15);\n",
              "      fill: #174EA6;\n",
              "    }\n",
              "\n",
              "    [theme=dark] .colab-df-convert {\n",
              "      background-color: #3B4455;\n",
              "      fill: #D2E3FC;\n",
              "    }\n",
              "\n",
              "    [theme=dark] .colab-df-convert:hover {\n",
              "      background-color: #434B5C;\n",
              "      box-shadow: 0px 1px 3px 1px rgba(0, 0, 0, 0.15);\n",
              "      filter: drop-shadow(0px 1px 2px rgba(0, 0, 0, 0.3));\n",
              "      fill: #FFFFFF;\n",
              "    }\n",
              "  </style>\n",
              "\n",
              "      <script>\n",
              "        const buttonEl =\n",
              "          document.querySelector('#df-0bc3f44d-3a0f-48b2-8702-301dee6893a6 button.colab-df-convert');\n",
              "        buttonEl.style.display =\n",
              "          google.colab.kernel.accessAllowed ? 'block' : 'none';\n",
              "\n",
              "        async function convertToInteractive(key) {\n",
              "          const element = document.querySelector('#df-0bc3f44d-3a0f-48b2-8702-301dee6893a6');\n",
              "          const dataTable =\n",
              "            await google.colab.kernel.invokeFunction('convertToInteractive',\n",
              "                                                     [key], {});\n",
              "          if (!dataTable) return;\n",
              "\n",
              "          const docLinkHtml = 'Like what you see? Visit the ' +\n",
              "            '<a target=\"_blank\" href=https://colab.research.google.com/notebooks/data_table.ipynb>data table notebook</a>'\n",
              "            + ' to learn more about interactive tables.';\n",
              "          element.innerHTML = '';\n",
              "          dataTable['output_type'] = 'display_data';\n",
              "          await google.colab.output.renderOutput(dataTable, element);\n",
              "          const docLink = document.createElement('div');\n",
              "          docLink.innerHTML = docLinkHtml;\n",
              "          element.appendChild(docLink);\n",
              "        }\n",
              "      </script>\n",
              "    </div>\n",
              "  </div>\n",
              "  "
            ]
          },
          "metadata": {},
          "execution_count": 15
        }
      ]
    },
    {
      "cell_type": "code",
      "source": [],
      "metadata": {
        "colab": {
          "base_uri": "https://localhost:8080/"
        },
        "id": "8B_WCg5tk1AN",
        "outputId": "e3dc7c0f-7c9d-4d14-fc4c-afdf5c06e466"
      },
      "execution_count": 115,
      "outputs": [
        {
          "output_type": "execute_result",
          "data": {
            "text/plain": [
              "0"
            ]
          },
          "metadata": {},
          "execution_count": 115
        }
      ]
    },
    {
      "cell_type": "markdown",
      "source": [
        "## Explorando os dados"
      ],
      "metadata": {
        "id": "V7LtIJqUcKER"
      }
    },
    {
      "cell_type": "code",
      "source": [],
      "metadata": {
        "id": "kJ-8nfdge5HX"
      },
      "execution_count": null,
      "outputs": []
    },
    {
      "cell_type": "markdown",
      "source": [
        "## Modelando os dados"
      ],
      "metadata": {
        "id": "6qDj_KC9cMOJ"
      }
    },
    {
      "cell_type": "code",
      "source": [
        "from sklearn.model_selection import train_test_split\n",
        "\n",
        "#split train test val\n",
        "ds_train, ds_test = train_test_split(final_data)\n",
        "\n",
        "# split validation set\n",
        "ds_test, ds_val = train_test_split(ds_test)\n",
        "\n",
        "print(ds_train.shape, ds_test.shape, ds_val.shape)"
      ],
      "metadata": {
        "colab": {
          "base_uri": "https://localhost:8080/"
        },
        "id": "hun4oNE5iNRy",
        "outputId": "1f90035b-8877-46af-aad2-e1811dbcc18d"
      },
      "execution_count": 16,
      "outputs": [
        {
          "output_type": "stream",
          "name": "stdout",
          "text": [
            "(14326, 2) (3582, 2) (1194, 2)\n"
          ]
        }
      ]
    },
    {
      "cell_type": "code",
      "source": [
        "ds_train"
      ],
      "metadata": {
        "colab": {
          "base_uri": "https://localhost:8080/",
          "height": 424
        },
        "id": "T-x83cmPjw3M",
        "outputId": "e66fd584-d225-4b72-b417-eee4a8a133d5"
      },
      "execution_count": 17,
      "outputs": [
        {
          "output_type": "execute_result",
          "data": {
            "text/plain": [
              "       label                                               text\n",
              "14052      0  Por que economista do MIT diz que os EUA estão...\n",
              "13706      0   Assolados por uma grave crise de legitimidade...\n",
              "16613      1  Marca de sabão em pó faz publicidade de gênero...\n",
              "10152      0  o juiz varar interessar difuso e coletivos com...\n",
              "15897      1  CUIDADO! PL 280 (proposto por senador citado n...\n",
              "...      ...                                                ...\n",
              "17825      1  Cliente pede frango e leva rato frito em rede ...\n",
              "14226      0  Temer diz que segue na Presidência e pede susp...\n",
              "10729      0  anteontem o cidadão itabuna o km salvador o su...\n",
              "9528       0  o deputar federal e presidente trabalhador pt ...\n",
              "16175      1  Reino Unido cogita ataque preventivo e Rússia ...\n",
              "\n",
              "[14326 rows x 2 columns]"
            ],
            "text/html": [
              "\n",
              "  <div id=\"df-a7657f8e-c836-45ec-af37-0bb9c0df5e71\">\n",
              "    <div class=\"colab-df-container\">\n",
              "      <div>\n",
              "<style scoped>\n",
              "    .dataframe tbody tr th:only-of-type {\n",
              "        vertical-align: middle;\n",
              "    }\n",
              "\n",
              "    .dataframe tbody tr th {\n",
              "        vertical-align: top;\n",
              "    }\n",
              "\n",
              "    .dataframe thead th {\n",
              "        text-align: right;\n",
              "    }\n",
              "</style>\n",
              "<table border=\"1\" class=\"dataframe\">\n",
              "  <thead>\n",
              "    <tr style=\"text-align: right;\">\n",
              "      <th></th>\n",
              "      <th>label</th>\n",
              "      <th>text</th>\n",
              "    </tr>\n",
              "  </thead>\n",
              "  <tbody>\n",
              "    <tr>\n",
              "      <th>14052</th>\n",
              "      <td>0</td>\n",
              "      <td>Por que economista do MIT diz que os EUA estão...</td>\n",
              "    </tr>\n",
              "    <tr>\n",
              "      <th>13706</th>\n",
              "      <td>0</td>\n",
              "      <td>Assolados por uma grave crise de legitimidade...</td>\n",
              "    </tr>\n",
              "    <tr>\n",
              "      <th>16613</th>\n",
              "      <td>1</td>\n",
              "      <td>Marca de sabão em pó faz publicidade de gênero...</td>\n",
              "    </tr>\n",
              "    <tr>\n",
              "      <th>10152</th>\n",
              "      <td>0</td>\n",
              "      <td>o juiz varar interessar difuso e coletivos com...</td>\n",
              "    </tr>\n",
              "    <tr>\n",
              "      <th>15897</th>\n",
              "      <td>1</td>\n",
              "      <td>CUIDADO! PL 280 (proposto por senador citado n...</td>\n",
              "    </tr>\n",
              "    <tr>\n",
              "      <th>...</th>\n",
              "      <td>...</td>\n",
              "      <td>...</td>\n",
              "    </tr>\n",
              "    <tr>\n",
              "      <th>17825</th>\n",
              "      <td>1</td>\n",
              "      <td>Cliente pede frango e leva rato frito em rede ...</td>\n",
              "    </tr>\n",
              "    <tr>\n",
              "      <th>14226</th>\n",
              "      <td>0</td>\n",
              "      <td>Temer diz que segue na Presidência e pede susp...</td>\n",
              "    </tr>\n",
              "    <tr>\n",
              "      <th>10729</th>\n",
              "      <td>0</td>\n",
              "      <td>anteontem o cidadão itabuna o km salvador o su...</td>\n",
              "    </tr>\n",
              "    <tr>\n",
              "      <th>9528</th>\n",
              "      <td>0</td>\n",
              "      <td>o deputar federal e presidente trabalhador pt ...</td>\n",
              "    </tr>\n",
              "    <tr>\n",
              "      <th>16175</th>\n",
              "      <td>1</td>\n",
              "      <td>Reino Unido cogita ataque preventivo e Rússia ...</td>\n",
              "    </tr>\n",
              "  </tbody>\n",
              "</table>\n",
              "<p>14326 rows × 2 columns</p>\n",
              "</div>\n",
              "      <button class=\"colab-df-convert\" onclick=\"convertToInteractive('df-a7657f8e-c836-45ec-af37-0bb9c0df5e71')\"\n",
              "              title=\"Convert this dataframe to an interactive table.\"\n",
              "              style=\"display:none;\">\n",
              "        \n",
              "  <svg xmlns=\"http://www.w3.org/2000/svg\" height=\"24px\"viewBox=\"0 0 24 24\"\n",
              "       width=\"24px\">\n",
              "    <path d=\"M0 0h24v24H0V0z\" fill=\"none\"/>\n",
              "    <path d=\"M18.56 5.44l.94 2.06.94-2.06 2.06-.94-2.06-.94-.94-2.06-.94 2.06-2.06.94zm-11 1L8.5 8.5l.94-2.06 2.06-.94-2.06-.94L8.5 2.5l-.94 2.06-2.06.94zm10 10l.94 2.06.94-2.06 2.06-.94-2.06-.94-.94-2.06-.94 2.06-2.06.94z\"/><path d=\"M17.41 7.96l-1.37-1.37c-.4-.4-.92-.59-1.43-.59-.52 0-1.04.2-1.43.59L10.3 9.45l-7.72 7.72c-.78.78-.78 2.05 0 2.83L4 21.41c.39.39.9.59 1.41.59.51 0 1.02-.2 1.41-.59l7.78-7.78 2.81-2.81c.8-.78.8-2.07 0-2.86zM5.41 20L4 18.59l7.72-7.72 1.47 1.35L5.41 20z\"/>\n",
              "  </svg>\n",
              "      </button>\n",
              "      \n",
              "  <style>\n",
              "    .colab-df-container {\n",
              "      display:flex;\n",
              "      flex-wrap:wrap;\n",
              "      gap: 12px;\n",
              "    }\n",
              "\n",
              "    .colab-df-convert {\n",
              "      background-color: #E8F0FE;\n",
              "      border: none;\n",
              "      border-radius: 50%;\n",
              "      cursor: pointer;\n",
              "      display: none;\n",
              "      fill: #1967D2;\n",
              "      height: 32px;\n",
              "      padding: 0 0 0 0;\n",
              "      width: 32px;\n",
              "    }\n",
              "\n",
              "    .colab-df-convert:hover {\n",
              "      background-color: #E2EBFA;\n",
              "      box-shadow: 0px 1px 2px rgba(60, 64, 67, 0.3), 0px 1px 3px 1px rgba(60, 64, 67, 0.15);\n",
              "      fill: #174EA6;\n",
              "    }\n",
              "\n",
              "    [theme=dark] .colab-df-convert {\n",
              "      background-color: #3B4455;\n",
              "      fill: #D2E3FC;\n",
              "    }\n",
              "\n",
              "    [theme=dark] .colab-df-convert:hover {\n",
              "      background-color: #434B5C;\n",
              "      box-shadow: 0px 1px 3px 1px rgba(0, 0, 0, 0.15);\n",
              "      filter: drop-shadow(0px 1px 2px rgba(0, 0, 0, 0.3));\n",
              "      fill: #FFFFFF;\n",
              "    }\n",
              "  </style>\n",
              "\n",
              "      <script>\n",
              "        const buttonEl =\n",
              "          document.querySelector('#df-a7657f8e-c836-45ec-af37-0bb9c0df5e71 button.colab-df-convert');\n",
              "        buttonEl.style.display =\n",
              "          google.colab.kernel.accessAllowed ? 'block' : 'none';\n",
              "\n",
              "        async function convertToInteractive(key) {\n",
              "          const element = document.querySelector('#df-a7657f8e-c836-45ec-af37-0bb9c0df5e71');\n",
              "          const dataTable =\n",
              "            await google.colab.kernel.invokeFunction('convertToInteractive',\n",
              "                                                     [key], {});\n",
              "          if (!dataTable) return;\n",
              "\n",
              "          const docLinkHtml = 'Like what you see? Visit the ' +\n",
              "            '<a target=\"_blank\" href=https://colab.research.google.com/notebooks/data_table.ipynb>data table notebook</a>'\n",
              "            + ' to learn more about interactive tables.';\n",
              "          element.innerHTML = '';\n",
              "          dataTable['output_type'] = 'display_data';\n",
              "          await google.colab.output.renderOutput(dataTable, element);\n",
              "          const docLink = document.createElement('div');\n",
              "          docLink.innerHTML = docLinkHtml;\n",
              "          element.appendChild(docLink);\n",
              "        }\n",
              "      </script>\n",
              "    </div>\n",
              "  </div>\n",
              "  "
            ]
          },
          "metadata": {},
          "execution_count": 17
        }
      ]
    },
    {
      "cell_type": "code",
      "source": [
        "ds_train.dtypes\n"
      ],
      "metadata": {
        "colab": {
          "base_uri": "https://localhost:8080/"
        },
        "id": "YOXB2dcKqx1X",
        "outputId": "475267cc-8def-488d-e2b3-cc3b082221de"
      },
      "execution_count": 18,
      "outputs": [
        {
          "output_type": "execute_result",
          "data": {
            "text/plain": [
              "label      int8\n",
              "text     object\n",
              "dtype: object"
            ]
          },
          "metadata": {},
          "execution_count": 18
        }
      ]
    },
    {
      "cell_type": "code",
      "source": [
        "# make a tensor dataset and split into batches\n",
        "\n",
        "batch_size = 32\n",
        "\n",
        "raw_train_ds = tf.data.Dataset.from_tensor_slices((ds_train.text.values, ds_train.label.values))\n",
        "raw_test_ds = tf.data.Dataset.from_tensor_slices((ds_test.text.values, ds_test.label.values))\n",
        "raw_val_ds = tf.data.Dataset.from_tensor_slices((ds_val.text.values, ds_val.label.values))\n",
        "\n",
        "raw_train_ds = raw_train_ds.batch(batch_size)\n",
        "raw_test_ds = raw_test_ds.batch(batch_size)\n",
        "raw_val_ds = raw_val_ds.batch(batch_size)"
      ],
      "metadata": {
        "id": "wdK8EI_ddnFa"
      },
      "execution_count": 19,
      "outputs": []
    },
    {
      "cell_type": "code",
      "source": [
        "for text_batch, label_batch in raw_train_ds.take(1):\n",
        "  for i in range(10):\n",
        "    print(\"Notícia: \", text_batch.numpy()[i])\n",
        "    print(\"Label:\", label_batch.numpy()[i])\n"
      ],
      "metadata": {
        "colab": {
          "base_uri": "https://localhost:8080/"
        },
        "id": "l10ZBZ6Kdsuu",
        "outputId": "a13ff6ca-a0ad-419e-c8fb-58491819ce33"
      },
      "execution_count": 20,
      "outputs": [
        {
          "output_type": "stream",
          "name": "stdout",
          "text": [
            "Notícia:  b'Por que economista do MIT diz que os EUA est\\xc3\\xa3o cada vez mais parecidos com a Argentina. Autor de um livro sobre o desaparecimento da classe m\\xc3\\xa9dia nos Estados Unidos, Peter Temin explica as semelhan\\xc3\\xa7as que v\\xc3\\xaa entre a maior economia do mundo e pa\\xc3\\xadses emergentes..  A Am\\xc3\\xa9rica Latina conhece bem sociedades em que h\\xc3\\xa1 um enorme abismo entre ricos e pobres, mas o economista Peter Temin acredita que esse fen\\xc3\\xb4meno alcan\\xc3\\xa7a cada vez mais a maior economia do mundo: os Estados Unidos. Professor de Economia do prestigiado Instituto de Tecnologia de Massachusetts (MIT, na sigla em ingl\\xc3\\xaas), ele faz uma compara\\xc3\\xa7\\xc3\\xa3o com um pa\\xc3\\xads latinoamericano em particular. \"Minha sensa\\xc3\\xa7\\xc3\\xa3o \\xc3\\xa9 que estamos ficando mais parecidos com a Argentina\", diz ele. Seu paralelo vai al\\xc3\\xa9m do potencial econ\\xc3\\xb4mico de duas grandes na\\xc3\\xa7\\xc3\\xb5es com recursos naturais, que conseguiram desenvolver suas classes m\\xc3\\xa9dias, e atinge tamb\\xc3\\xa9m a pol\\xc3\\xadtica, com as f\\xc3\\xb3rmulas aplicadas pelo l\\xc3\\xadder argentino Juan Domingo Per\\xc3\\xb3n no s\\xc3\\xa9culo passado e que hoje o presidente americano, Donald Trump, ensaia adotar. Autor de The Vanishing Middle Class: Prejudice and Power in a Dual Economy (A Classe M\\xc3\\xa9dia em Extin\\xc3\\xa7\\xc3\\xa3o: Preconceito e Poder em uma Economia Dual, em tradu\\xc3\\xa7\\xc3\\xa3o livre), obra eleita uma das melhores da \\xc3\\xa1rea econ\\xc3\\xb4mica de 2017 pelo jornal brit\\xc3\\xa2nico Financial Times, Temin acredita que o problema dos Estados Unidos remonta aos tempos em que o pa\\xc3\\xads surgiu, como explica na entrevista a seguir. BBC Mundo - O senhor defende haver dois pa\\xc3\\xadses diferentes dentro dos Estados Unidos. Pode explicar melhor essa ideia? O ponto crucial foi nos anos 1970. Antes disso, os sal\\xc3\\xa1rios haviam aumentado com a produtividade. Dali em diante, por quase 50 anos, os sal\\xc3\\xa1rios reais (descontada a infla\\xc3\\xa7\\xc3\\xa3o) t\\xc3\\xaam permanecido est\\xc3\\xa1veis nos Estados Unidos. Ainda que a economia tenha se expandido, a expans\\xc3\\xa3o foi para os ricos, o que chamo de setor FTE (as ind\\xc3\\xbastrias de finan\\xc3\\xa7as, tecnologia e eletr\\xc3\\xb4nica), aproximadamente 20% da popula\\xc3\\xa7\\xc3\\xa3o. E a classe m\\xc3\\xa9dia est\\xc3\\xa1 desaparecendo. \\xc3\\x89 uma mistura de fatores econ\\xc3\\xb4micos, tecnologia, crescente globaliza\\xc3\\xa7\\xc3\\xa3o e pol\\xc3\\xadtica. BBC Mundo - Qu\\xc3\\xa3o profundo \\xc3\\xa9 esse problema? A forma como isso se deu nos Estados Unidos remonta ao fim do s\\xc3\\xa9culo 17 e \\xc3\\xa0 escravid\\xc3\\xa3o. Lutamos uma guerra civil por isso. Mas n\\xc3\\xa3o acabamos com o preconceito contra pessoas de descend\\xc3\\xaancia africana. A f\\xc3\\xbaria da classe m\\xc3\\xa9dia e dos pobres que est\\xc3\\xa3o sendo deixados de fora do crescimento econ\\xc3\\xb4mico se desviou dos aspectos econ\\xc3\\xb4micos para o racismo. \\xc3\\x89 dizer aos brancos pobres que ao menos eles est\\xc3\\xa3o melhor que os negros pobres. BBC Mundo - Pode dar alguns dados que ilustram esse fen\\xc3\\xb4meno? Os n\\xc3\\xbameros do livro v\\xc3\\xa3o de 1970 a 2014 e se baseiam em um estudo do instituto de pesquisas Pew. A classe m\\xc3\\xa9dia passou de representar 62% da renda agregada dos Estados Unidos para representar 43%. Essa \\xc3\\xa9 a classe m\\xc3\\xa9dia que desaparece. Enquanto os mais ricos, do setor FTE, passaram a representar de 29% a 49%. Politicamente, h\\xc3\\xa1 um conjunto ainda menor de pessoas que \\xc3\\xa9 dominante. A elei\\xc3\\xa7\\xc3\\xa3o de 2016, que \\xc3\\xa9 problem\\xc3\\xa1tica, \\xc3\\xa9 parte dessa f\\xc3\\xbaria da qual falava. O presidente Trump n\\xc3\\xa3o ganhou pelo voto popular, perdeu por tr\\xc3\\xaas milh\\xc3\\xb5es de votos. Mas ganhou no sistema de col\\xc3\\xa9gios eleitorais de nosso sistema federal. Isso se deve \\xc3\\xa0 quantidade de dinheiro envolvido na pol\\xc3\\xadtica americana. S\\xc3\\xa3o aqueles que fazem parte do 1% da popula\\xc3\\xa7\\xc3\\xa3o que t\\xc3\\xaam a maior renda, os plutocratas, que tomam as decis\\xc3\\xb5es pol\\xc3\\xadticas. BBC Mundo - Mas Trump diz que os n\\xc3\\xadveis de desemprego entre hisp\\xc3\\xa2nicos e afroamericanos est\\xc3\\xa3o entre os mais baixos da hist\\xc3\\xb3ria... Sim, porque a economia cresce, e alguns conseguem trabalho. Mas essas taxas de desemprego s\\xc3\\xa3o mais elevadas que aquela entre os brancos. Ainda que a expans\\xc3\\xa3o econ\\xc3\\xb4mica seja boa para todos, porque isso faz com que as empresas precisem de mais trabalhadores. Um dos problemas neste momento, no entanto, \\xc3\\xa9 que o governo de Trump tem permitido muita concentra\\xc3\\xa7\\xc3\\xa3o nas ind\\xc3\\xbastrias e n\\xc3\\xa3o tem aplicado as regras contra monop\\xc3\\xb3lio. \\xc3\\x89 uma op\\xc3\\xa7\\xc3\\xa3o pol\\xc3\\xadtica. Ent\\xc3\\xa3o, as empresas se juntam e, ainda que necessitem de mais m\\xc3\\xa3o de obra, n\\xc3\\xa3o querem pagar sal\\xc3\\xa1rios mais altos. Como resultado, o n\\xc3\\xbamero de empregos aumenta, mas a press\\xc3\\xa3o para elevar os sal\\xc3\\xa1rios n\\xc3\\xa3o obt\\xc3\\xa9m muito sucesso. Ainda que haja pequenos aumentos, n\\xc3\\xa3o s\\xc3\\xa3o o bastante para elev\\xc3\\xa1-los \\xc3\\xa0 mesma propor\\xc3\\xa7\\xc3\\xa3o da renda de h\\xc3\\xa1 50 anos. BBC Mundo - \\xc3\\x89 poss\\xc3\\xadvel comparar a situa\\xc3\\xa7\\xc3\\xa3o dos Estados Unidos com a da Am\\xc3\\xa9rica Latina, a regi\\xc3\\xa3o mais desigual do mundo? Minha sensa\\xc3\\xa7\\xc3\\xa3o \\xc3\\xa9 que estamos ficando cada vez mais parecidos com a Argentina. No entanto, quando dei um semin\\xc3\\xa1rio sobre isso no MIT, um dos meus estudantes disse: \"Isso se parece com o Brasil\". Falo Argentina porque, h\\xc3\\xa1 um s\\xc3\\xa9culo, era um dos dez pa\\xc3\\xadses mais ricos do mundo. E a pol\\xc3\\xadtica tornou-se muito antag\\xc3\\xb4nica entre dois diferentes grupos da popula\\xc3\\xa7\\xc3\\xa3o. Os l\\xc3\\xadderes do pa\\xc3\\xads tomaram decis\\xc3\\xb5es ruins, como ter se voltado para dentro de si com Per\\xc3\\xb3n durante a expans\\xc3\\xa3o da economia global ap\\xc3\\xb3s a Segunda Guerra Mundial. E o que acontece agora nos Estados Unidos \\xc3\\xa9 o mesmo, voltando-se para dentro, ignorando o que ocorre no resto do mundo. Isso me parece ser o paralelo mais pr\\xc3\\xb3ximo: um grande pa\\xc3\\xads com recursos naturais adequados, que exportou com sucesso... Quase tr\\xc3\\xaas quartos de s\\xc3\\xa9culos atr\\xc3\\xa1s, a tecnologia era muito diferente, mas a pol\\xc3\\xadtica parece ser muito similar. Uma das coisas que n\\xc3\\xa3o explorei em detalhe, mas que est\\xc3\\xa1 se tornando mais evidente, \\xc3\\xa9 que a corrup\\xc3\\xa7\\xc3\\xa3o, que tem sido um ponto importante da pol\\xc3\\xadtica na Argentina, no Brasil etc, est\\xc3\\xa1 vindo para os Estados Unidos. H\\xc3\\xa1 governos em que h\\xc3\\xa1 conflitos de interesse, que recebem o apoio de ind\\xc3\\xbastrias que deveriam regular. BBC Mundo - Como podemos comparar o que ocorre agora nos Estados Unidos com o peronismo na Argentina? H\\xc3\\xa1 uma grande diferen\\xc3\\xa7a: que a Argentina atravessou um per\\xc3\\xadodo muito ruim de viol\\xc3\\xaancia entre v\\xc3\\xa1rios grupos. N\\xc3\\xb3s n\\xc3\\xa3o chegamos t\\xc3\\xa3o longe. Mas diria que os paralelos que vejo se resumem a dois aspectos. Um \\xc3\\xa9 que Per\\xc3\\xb3n tendeu a favorecer um grupo da popula\\xc3\\xa7\\xc3\\xa3o sobre os outros. O segundo \\xc3\\xa9 que ele desenvolveu o pa\\xc3\\xads internamente em vez de torn\\xc3\\xa1-lo uma economia mundial. E \\xc3\\xa9 isso que Trump parece estar tentando fazer atualmente. BBC Mundo - E como se compara a desigualdade nos Estados Unidos com as de outros pa\\xc3\\xadses? Tem um n\\xc3\\xadvel mais alto que em outros pa\\xc3\\xadses europeus, mas n\\xc3\\xa3o acredito que seja t\\xc3\\xa3o alto quanto nos latinoamericanos. Mas, na Europa, a direita est\\xc3\\xa1 ganhando poder pol\\xc3\\xadtico, em uma esp\\xc3\\xa9cie de paralelo com os Estados Unidos. L\\xc3\\xa1, o preconceito n\\xc3\\xa3o \\xc3\\xa9 com os negros, mas com os mu\\xc3\\xa7ulmanos, refugiados do Oriente M\\xc3\\xa9dio. H\\xc3\\xa1 um contexto racial ou religioso. \\xc3\\x89 mais compar\\xc3\\xa1vel aos latinos nos Estados Unidos do que aos negros, porque s\\xc3\\xa3o imigrantes recentes. BBC Mundo - O que recomenda para reduzir a desigualdade nos Estados Unidos ou na Am\\xc3\\xa9rica Latina? Uma vez que essa situa\\xc3\\xa7\\xc3\\xa3o se instaura, \\xc3\\xa9 muito dif\\xc3\\xadcil sair dela. Suponho que a experi\\xc3\\xaancia da Am\\xc3\\xa9rica Latina ilustra isso. Dado que n\\xc3\\xb3s levamos 50 anos para chegar aonde estamos, sinto que poderia levar 50 anos para sair disso. O primeiro passo \\xc3\\xa9 eleger um governo que queira fazer isso, se for poss\\xc3\\xadvel. O governo atual nos Estados Unidos \\xc3\\xa9 muito favor\\xc3\\xa1vel aos ricos. O corte de impostos aprovado no fim de 2017 favorece os mais ricos. Isso precisa ser revertido. O segundo \\xc3\\xa9 a educa\\xc3\\xa7\\xc3\\xa3o, para superar os preconceitos e dar \\xc3\\xa0s pessoas capacidade de que possam chegar \\xc3\\xa0 classe alta. Nos Estados Unidos, o setor FTE tem uma boa educa\\xc3\\xa7\\xc3\\xa3o. Mas, abaixo disso e especialmente dentro de nossas cidades, a educa\\xc3\\xa7\\xc3\\xa3o p\\xc3\\xbablica \\xc3\\xa9 terr\\xc3\\xadvel.'\n",
            "Label: 0\n",
            "Notícia:  b' Assolados por uma grave crise de legitimidade e confian\\xc3\\xa7a, diversos partidos brasileiros tem procurado alterar seus nomes como uma tentativa de recuperar sua credibilidade. Assim, o PFL tornou-se DEM, o PTN de J\\xc3\\xa2nio Quadros foi rebatizado como \\xe2\\x80\\x98Podemos\\xe2\\x80\\x99, o PT do B passou a ser Avante e, mais recentemente, assistimos o PMDB de Temer, Juc\\xc3\\xa1, Geddel e companhia voltar a se chamar MDB. N\\xc3\\xa3o nos esque\\xc3\\xa7amos de incluir tamb\\xc3\\xa9m o PP de Maluf, anteriormente PPB, PDS e ARENA, agora Progressistas. Vetar essas pr\\xc3\\xa1ticas \\xc3\\xa9 necess\\xc3\\xa1rio para fortalecer a democracia no Pa\\xc3\\xads. O objetivo de qualquer princ\\xc3\\xadpio constitucional ou lei que regulamente a competi\\xc3\\xa7\\xc3\\xa3o pol\\xc3\\xadtica \\xc3\\xa9 evitar a arbitrariedade e favorecer a representatividade dos cidad\\xc3\\xa3os na gest\\xc3\\xa3o da coisa p\\xc3\\xbablica. Para tanto, as regras que delimitam o jogo pol\\xc3\\xadtico devem favorecer que os cidad\\xc3\\xa3os tenham acesso a informa\\xc3\\xa7\\xc3\\xb5es de qualidade com base na qual tomem a decis\\xc3\\xa3o de votar. O nome do partido carrega a reputa\\xc3\\xa7\\xc3\\xa3o deste, seu hist\\xc3\\xb3rico de fracasso ou sucesso na gest\\xc3\\xa3o p\\xc3\\xbablica, de comportamento \\xc3\\xa9tico ou de desvios e de posicionamentos ideol\\xc3\\xb3gicos. Dessa forma, \\xc3\\xa9 um par\\xc3\\xa2metro informacional importante, que quando alterado pode causar distor\\xc3\\xa7\\xc3\\xb5es, afetando o funcionamento do sistema democr\\xc3\\xa1tico. \\xc3\\x89 preciso relembrar que nenhuma liberdade democr\\xc3\\xa1tica \\xc3\\xa9 absoluta. A liberdade de organiza\\xc3\\xa7\\xc3\\xa3o partid\\xc3\\xa1ria possui limites, os quais s\\xc3\\xa3o fundamentais ao pr\\xc3\\xb3prio funcionamento do sistema democr\\xc3\\xa1tico, observados princ\\xc3\\xadpios republicanos de cidadania. Exemplos n\\xc3\\xa3o faltam de como esses limites s\\xc3\\xa3o necess\\xc3\\xa1rios. Basta pensar no caso de um partido decidir organizar um departamento de log\\xc3\\xadstica para transportar eleitores no dia das elei\\xc3\\xa7\\xc3\\xb5es. Algu\\xc3\\xa9m teria alguma d\\xc3\\xbavida de que este partido estaria cometendo crime eleitoral? Claro que sempre haveria algu\\xc3\\xa9m que inocentemente afirmaria que simplesmente est\\xc3\\xa1 se usufruindo de sua liberdade de organiza\\xc3\\xa7\\xc3\\xa3o partid\\xc3\\xa1ria. N\\xc3\\xa3o h\\xc3\\xa1 garantias de que a mera mudan\\xc3\\xa7a de nome seja capaz de promover, conjuntamente, mudan\\xc3\\xa7as reais nas pr\\xc3\\xa1ticas, de dirigentes (oligarquias) ou mesmo nas ideias que orientam as a\\xc3\\xa7\\xc3\\xb5es partid\\xc3\\xa1rias. A aposta na mudan\\xc3\\xa7a de nomes, como se tem assistido, \\xc3\\xa9 apenas marqueteira, visando \\xc3\\xa0 conquista do poder atrav\\xc3\\xa9s da distor\\xc3\\xa7\\xc3\\xa3o das informa\\xc3\\xa7\\xc3\\xb5es com as quais os cidad\\xc3\\xa3os decidem em quem votar. Muda-se o reboco, troca-se a m\\xc3\\xa1scara, mas o lobo por baixo da nova pele de cordeiro ainda \\xc3\\xa9 o mesmo. Aquela agremia\\xc3\\xa7\\xc3\\xa3o partid\\xc3\\xa1ria realmente interessada em mudar sua reputa\\xc3\\xa7\\xc3\\xa3o frente aos cidad\\xc3\\xa3os deve optar por qual caminho? O f\\xc3\\xa1cil e superficial ou ent\\xc3\\xa3o arrega\\xc3\\xa7ar as mangas e por m\\xc3\\xa3os a obra para melhorar a imagem de seu partido por meio da renova\\xc3\\xa7\\xc3\\xa3o de dirigentes e a atualiza\\xc3\\xa7\\xc3\\xa3o das ideias partid\\xc3\\xa1rias de modo a se tornarem mais consent\\xc3\\xa2neos com os valores da popula\\xc3\\xa7\\xc3\\xa3o? A resposta \\xc3\\xa9 evidente. Mudan\\xc3\\xa7as efetivas s\\xc3\\xa3o tarefas mais dif\\xc3\\xadceis \\xe2\\x80\\x93 e provavelmente n\\xc3\\xa3o desejadas por aqueles que preferem simplesmente alterar o nome da agremia\\xc3\\xa7\\xc3\\xa3o. Mudar o nome do partido nada mais \\xc3\\xa9 que um ardil que aposta na pouca mem\\xc3\\xb3ria do eleitorado. Em um contexto de prolifera\\xc3\\xa7\\xc3\\xa3o de partidos como no caso brasileiro, tal expediente mais grave se torna. E isso n\\xc3\\xa3o \\xc3\\xa9 por acaso. Os \\xe2\\x80\\x98ide\\xc3\\xb3logos\\xe2\\x80\\x99 das mudan\\xc3\\xa7as de nome sabem que os partidos constroem reputa\\xc3\\xa7\\xc3\\xb5es junto ao eleitorado, que, boas ou m\\xc3\\xa1s, s\\xc3\\xa3o importantes na hora da decis\\xc3\\xa3o do voto. Se assim n\\xc3\\xa3o fosse, por que sugeririam mudan\\xc3\\xa7a na denomina\\xc3\\xa7\\xc3\\xa3o? Mesmo que muitos digam que votam em candidatos e n\\xc3\\xa3o em partidos, n\\xc3\\xa3o \\xc3\\xa9 raro encontrar eleitores que recusam determinados pol\\xc3\\xadticos por causa de sua legenda partid\\xc3\\xa1ria. Esse movimento em parte justifica a pr\\xc3\\xb3pria exist\\xc3\\xaancia dos partidos. Recusar ou aderir a determinados pol\\xc3\\xadticos por seus partidos \\xc3\\xa9 um forma importante para os eleitores elegerem aqueles que melhor os representa. Pr\\xc3\\xa1tica perfeitamente democr\\xc3\\xa1tica. Na impossibilidade de uma democracia exclusivamente direta, a ideia de representa\\xc3\\xa7\\xc3\\xa3o pol\\xc3\\xadtica depende da media\\xc3\\xa7\\xc3\\xa3o partid\\xc3\\xa1ria. Os partidos pol\\xc3\\xadticos s\\xc3\\xa3o essenciais \\xc3\\xa0 democracia, pois cumprem uma miss\\xc3\\xa3o b\\xc3\\xa1sica na democracia representativa, isto \\xc3\\xa9, buscam aproximar aqueles que comungam de ideias pol\\xc3\\xadticas para que possam ser uma alternativa de representa\\xc3\\xa7\\xc3\\xa3o junto ao cidad\\xc3\\xa3o que opta por participar das decis\\xc3\\xb5es da polis por meio do voto. Neste contexto, mudar de nome e manter todo o resto, nada mais \\xc3\\xa9 que um subterf\\xc3\\xbagio de oligarquias partid\\xc3\\xa1rias com vistas a se esquivar do que realmente importa: fugir da presta\\xc3\\xa7\\xc3\\xa3o de contas (accountability) junto ao eleitor. Sabe-se que partidos s\\xc3\\xa3o controlados por elites partid\\xc3\\xa1rias. No momento das elei\\xc3\\xa7\\xc3\\xb5es mais do que seu filiado ou militante, o eleitor tem a oportunidade de aprovar ou reprovar a conduta dessas elites. N\\xc3\\xa3o \\xc3\\xa9 exagerado dizer que as elites partid\\xc3\\xa1rias \\xc3\\xa9 que est\\xc3\\xa3o sob o crivo do p\\xc3\\xbablico. Por isso a t\\xc3\\xa1tica agora encontrada por determinadas legendas \\xc3\\xa9 mudar de nome. Tal pr\\xc3\\xa1tica n\\xc3\\xa3o \\xc3\\xa9 outra sen\\xc3\\xa3o uma maneira de tentar preservar estas elites partid\\xc3\\xa1rias com uma nova roupagem e distorcer as informa\\xc3\\xa7\\xc3\\xb5es que lavariam a escolhas eleitorais mais eficientes. Pr\\xc3\\xa1tica que n\\xc3\\xa3o deixa de ser corol\\xc3\\xa1rio do velho conservadorismo brasileiro: mudar para manter tudo como est\\xc3\\xa1. Preocupados com este cen\\xc3\\xa1rio, propusemos um projeto de lei em coautoria com deputado Betinho Gomes (PSDB-PE). Trata-se do projeto de lei no 8546/2017. Esta proposi\\xc3\\xa7\\xc3\\xa3o pro\\xc3\\xadbe a mudan\\xc3\\xa7a de nomes de partidos, exceto em caso de fus\\xc3\\xa3o ou incorpora\\xc3\\xa7\\xc3\\xa3o partid\\xc3\\xa1ria. Explica-se: nestes casos h\\xc3\\xa1 de fato uma mudan\\xc3\\xa7a que atinge a estrutura e a c\\xc3\\xbapula partid\\xc3\\xa1ria que torna razo\\xc3\\xa1vel a aceita\\xc3\\xa7\\xc3\\xa3o da altera\\xc3\\xa7\\xc3\\xa3o do nome das legendas. Espera-se com a proposta fortalecer o sistema partid\\xc3\\xa1rio brasileiro ao criar um obst\\xc3\\xa1culo que ultimamente contribui para a oblitera\\xc3\\xa7\\xc3\\xa3o de uma das principais caracter\\xc3\\xadsticas de uma democracia representativa: a presta\\xc3\\xa7\\xc3\\xa3o de contas dos pol\\xc3\\xadticos junto ao eleitorado. *Maria do Ros\\xc3\\xa1rio, deputada federal (PT-RS) e Guilherme de Queiroz Stein, economista e cientista social'\n",
            "Label: 0\n",
            "Notícia:  b'Marca de sab\\xc3\\xa3o em p\\xc3\\xb3 faz publicidade de g\\xc3\\xaanero para crian\\xc3\\xa7as e 98% dos internautas desaprovam.  Uma grande marca de sab\\xc3\\xa3o em p\\xc3\\xb3, ao inv\\xc3\\xa9s de continuar vendendo sab\\xc3\\xa3o em p\\xc3\\xb3 , quis meter o nariz onde n\\xc3\\xa3o foi chamada.  A OMO lan\\xc3\\xa7ou um \"comunicado urgente\" para pais e m\\xc3\\xa3es. Em sua p\\xc3\\xa1gina do Facebook e tamb\\xc3\\xa9m no Youtube , a marca convocou todos aqueles que tem filhos \"a fazerem recall de todas as brincadeiras que reforcem clich\\xc3\\xaas sobre g\\xc3\\xaanero.\" Ou seja, \\xc3\\xa9 um modo disfar\\xc3\\xa7ado de \"impor\" quest\\xc3\\xb5es de g\\xc3\\xaanero para uma crian\\xc3\\xa7a. O resultado? Veja voc\\xc3\\xaa mesmo na imagem abaixo: link no youtube'\n",
            "Label: 1\n",
            "Notícia:  b'o juiz varar interessar difuso e coletivos comarcar ilhar lu\\xc3\\xads douglas melar martim determinar o lockdown ilhar lu\\xc3\\xads ma evitar o dissemina\\xc3\\xa7\\xc3\\xa3o coronav\\xc3\\xadrus causador covid-19 afirmar hoje dia medir restritivo o popula\\xc3\\xa7\\xc3\\xa3o atender o for\\xc3\\xa7ar moral o o sair casar e cumprir o isolamento social durante o lockdown servi\\xc3\\xa7o essencial supermercado farm\\xc3\\xa1cia e hospital liberar o funcionar capital e cidade pa\\xc3\\xa7o lumiar ma raposar ma e jos\\xc3\\xa9 ribamar ma regi\\xc3\\xa3o metropolitano descumprir o determina\\xc3\\xa7\\xc3\\xa3o isolamento social multar e presar hoje pessoa sair s ruir e precisar justificar o transitar o o parar barreirar instalar ilhar o governar estadual instalar abordagem pessoa transitar cidade v\\xc3\\xaddeo enviar o o uol mostrar homem correr avenida lu\\xc3\\xads e o o deparar policiar militar voltar e retornar assistir acima'\n",
            "Label: 0\n",
            "Notícia:  b'CUIDADO! PL 280 (proposto por senador citado na Lava-Jato) beneficia pol\\xc3\\xadticos corruptos.  O relat\\xc3\\xb3rio sobre o Projeto de Lei de n\\xc3\\xbamero 280 (que define os crimes de abuso de autoridade e d\\xc3\\xa1 outras provid\\xc3\\xaancias), que beneficiaria pol\\xc3\\xadticos corruptos,  ganhou repercuss\\xc3\\xa3o na internet.  Proposto por um senador citado na Opera\\xc3\\xa7\\xc3\\xa3o Lava-Jato (Romero Juc\\xc3\\xa1/PMDB),  o PL  280,  caso aprovado,  poder\\xc3\\xa1 prender e punir quem ofender a intimidade,  a vida privada,  a honra ou a imagem de pessoa investigada ou indiciada em inqu\\xc3\\xa9rito policial,  autuada em flagrante delito,  presa provis\\xc3\\xb3ria ou preventivamente,  seja ela acusada,  v\\xc3\\xadtima ou testemunha de infra\\xc3\\xa7\\xc3\\xa3o penal,  constrangendo-a a participar de ato de divulga\\xc3\\xa7\\xc3\\xa3o de informa\\xc3\\xa7\\xc3\\xb5es a meios de comunica\\xc3\\xa7\\xc3\\xa3o social ou a ser fotografada,  filmada ou ter sua imagem gravada ou divulgada com essa finalidade e bl\\xc3\\xa1 bl\\xc3\\xa1 bl\\xc3\\xa1 bl\\xc3\\xa1.... RESUMINDO,  QUEREM PROTEGER OS POL\\xc3\\x8dTICOS BANDIDOS! O projeto deixa claro que que os maiores prejudicados seriam os jornalistas,  por\\xc3\\xa9m cidad\\xc3\\xa3os comuns tamb\\xc3\\xa9m podem ser punidos com essa legisla\\xc3\\xa7\\xc3\\xa3o,  uma vez que a internet se transformou em uma \\xc3\\xb3tima forma de criticar e vigiar os pol\\xc3\\xadticos. Juc\\xc3\\xa1,  que foi eliminado do cargo de Ministro do Planejamento ap\\xc3\\xb3s o esc\\xc3\\xa2ndalo das grava\\xc3\\xa7\\xc3\\xb5es com o ex-presidente da Transpetro,  S\\xc3\\xa9rgio Machado,  quer com que a Lei seja aprovada o mais r\\xc3\\xa1pido poss\\xc3\\xadvel. A lei deixa subentendido que divulgar tais crimes em meios de comunica\\xc3\\xa7\\xc3\\xa3o social,  sejam eles quais forem,  seriam objeto de constrangimento. Imagens de contraventores presos e rindo nem pensar,  tampouco da atua\\xc3\\xa7\\xc3\\xa3o do japon\\xc3\\xaas da federal ou dos presos durante a Lava-Jato,  investiga\\xc3\\xa7\\xc3\\xa3o conduzida pelo juiz federal S\\xc3\\xa9rgio Moro. Pela internet,  h\\xc3\\xa1 quem diga que o texto para o projeto de lei foi escrito pelos advogados de pol\\xc3\\xadticos,  que vivem tendo problemas com a imprensa.'\n",
            "Label: 1\n",
            "Notícia:  b'V\\xc3\\xadrus da Lava-Jato est\\xc3\\xa1 deixando o governo inteiro doente. Planalto tem a terceira baixa em dois dias. .  (1) Eun\\xc3\\xadcio de Oliveira, presidente do Senado e conhecido pela Lava-Jato como \"\\xc3\\xadndio\", foi internado no Hospital Santa L\\xc3\\xbacia (Bras\\xc3\\xadlia) para retirar uma ves\\xc3\\xadcula. Ele passou por uma colecistectomia. (2) Jos\\xc3\\xa9 Serra, ministro de Rela\\xc3\\xa7\\xc3\\xb5es Exteriores do governo Temer, tamb\\xc3\\xa9m pediu demiss\\xc3\\xa3o ontem , alegando problemas de sa\\xc3\\xbade. Serra \\xc3\\xa9 citado como benefici\\xc3\\xa1rio de R$ 23 milh\\xc3\\xb5es via caixa dois da Odebrecht. (3) Ainda na data de ontem, Jos\\xc3\\xa9 Yunes, o amigo do peito de Michel Temer e ex-assessor da presid\\xc3\\xaancia, delatou mais um ministro . Trata-se de Eliseu Padilha. Yunes afirmou em dela\\xc3\\xa7\\xc3\\xa3o que \"foi usado como mula\" para receber um pacote de dinheiro. Na manh\\xc3\\xa3 de hoje (24), ap\\xc3\\xb3s ser citado pelo amigo de Temer, Eliseu Padilha pediu afastamento tempor\\xc3\\xa1rio para tratar de um problema na pr\\xc3\\xb3stata.'\n",
            "Label: 1\n",
            "Notícia:  b'expl0dlu ministrar stf c\\xc3\\xa2ncer \\xe2\\x80\\x93 brasil ficar ch0cad0 o o descobrir bomba ministrar stf c\\xc3\\xa2ncer correr bastidor stf ministro diagnosticar c\\xc3\\xa2ncer p\\xc3\\xa2ncreas casar verdade bolsonaro trocar e ministro supremo cortar celso melar e marcar aur\\xc3\\xa9lio bolsonaro escolher ministrar o mandatar \\xe2\\x80\\x9c ferrar ferir ferrar ferir \\xe2\\x80\\x9d c\\xc3\\xa2ncer p\\xc3\\xa2ncreas toffoli bastidor bras\\xc3\\xadlia coment\\xc3\\xa1rio o ministrar toffoli c\\xc3\\xa2ncer p\\xc3\\xa2ncreas realmente gravar lament\\xc3\\xa1vel anunciar o ministrar stf c\\xc3\\xa2ncer o toffoli c\\xc3\\xa2ncer p\\xc3\\xa2ncreas'\n",
            "Label: 1\n",
            "Notícia:  b'corinthians calote padaria e dono o justi\\xc3\\xa7ar cobrar r$ o tim\\xc3\\xa3o dever r$ real o padaria localizar o arena itaquera o com\\xc3\\xa9rcio servir caf\\xc3\\xa9 manh\\xc3\\xa3 diariamente o clube alvinegro acionou o time justi\\xc3\\xa7ar vacilar hein diego garcia doespn.com.br'\n",
            "Label: 1\n",
            "Notícia:  b'pasmar o \\xe2\\x80\\x9c rei \\xe2\\x80\\x9d roberto carlos tirar lei rouanet show cruzeiro etc milh\\xc3\\xa3o bolsonaro decidir tirar coroar \\xe2\\x80\\x9c rei \\xe2\\x80\\x9d roberto carlos bolsonaro tomar atitude e tirar o coroar rei roberto carlos.a lista artista beneficiar lei rouanet crescer o surpreso ningu\\xc3\\xa9m roberto carlos alvo bolsonaro o presidente bolsonaro descobrir mamatas e resolver tirar o postar rei cantor roberto carlos e motivar bolsonaro descobrir roberto carlos benefici\\xc3\\xa1rio lei rouanet o cria\\xc3\\xa7\\xc3\\xa3o 1991.somente exposi\\xc3\\xa7\\xc3\\xa3o captar r$ milh\\xc3\\xa3o dinheiro p\\xc3\\xbablico roberto carlos investigar pol\\xc3\\xadcia federal opera\\xc3\\xa7\\xc3\\xa3o bocar livrar o cantor haver contratar dinheiro desviar lei rouanet mat\\xc3\\xa9ria publicar revisto \\xe2\\x80\\xa6 cruzeiro alto mar luxar especial ano globo bancados o dinheiro absurdo sobrar dinheiro artista dever principal sugador dinheiro bolsonaro mandar avisar o mamata acabar \\xe2\\x80\\xa6'\n",
            "Label: 1\n",
            "Notícia:  b'minist\\xc3\\xa9rio saudar enviar o equipar profissional volunt\\xc3\\xa1rio saudar for\\xc3\\xa7ar nacional sus atuar enfrentamento covid-19 manaus t\\xc3\\xa9cnico pastar seguir manaus apoiar s gest\\xc3\\xa3o estadual e municipal o combater doen\\xc3\\xa7a o amazona ganhar o hoje refor\\xc3\\xa7ar t\\xc3\\xa9cnico minist\\xc3\\xa9rio saudar e profissional saudar for\\xc3\\xa7ar nacional sus fn-sus capacitar atuar enfrentamento coronav\\xc3\\xadrus o equipar saudar contar m\\xc3\\xa9dico enfermeiro e fisioterapeuta atuar\\xc3\\xa3o hospital delphina aziz manaus o unidade refer\\xc3\\xaancia atendimento e tratamento paciente covid-19 o equipar fn-sus o amazona profissional delphina aziz o o atuaram unidade m\\xc3\\xa9dico enfermeiro e fisioterapeuta per\\xc3\\xadodo abril o maio'\n",
            "Label: 0\n"
          ]
        }
      ]
    },
    {
      "cell_type": "markdown",
      "source": [
        "## Pre Processamento dos dados"
      ],
      "metadata": {
        "id": "iT5V-FJOcRUX"
      }
    },
    {
      "cell_type": "code",
      "source": [
        "from tensorflow import keras\n",
        "from keras.layers import TextVectorization\n",
        "\n",
        "VOCAB_SIZE = 10000\n",
        "MAX_SEQUENCE_LENGTH = 100\n",
        "\n",
        "binary_vectorize_layer = TextVectorization(\n",
        "    max_tokens=VOCAB_SIZE,\n",
        "    output_mode='binary')\n",
        "\n",
        "int_vectorize_layer = TextVectorization(\n",
        "    max_tokens=VOCAB_SIZE,\n",
        "    output_mode='int',\n",
        "    output_sequence_length=MAX_SEQUENCE_LENGTH)\n"
      ],
      "metadata": {
        "id": "yhmjSv0Oex5Y"
      },
      "execution_count": 21,
      "outputs": []
    },
    {
      "cell_type": "code",
      "source": [
        "# Make a text-only dataset (without labels), then call `TextVectorization.adapt`.\n",
        "train_text = raw_train_ds.map(lambda text, labels: text)\n",
        "binary_vectorize_layer.adapt(train_text)\n",
        "int_vectorize_layer.adapt(train_text)\n"
      ],
      "metadata": {
        "id": "hJK90F15f_G9"
      },
      "execution_count": 22,
      "outputs": []
    },
    {
      "cell_type": "code",
      "source": [
        "# function to print result\n",
        "def binary_vectorize_text(text, label):\n",
        "  text = tf.expand_dims(text, -1)\n",
        "  return binary_vectorize_layer(text), label\n",
        "\n",
        "def int_vectorize_text(text, label):\n",
        "  text = tf.expand_dims(text, -1)\n",
        "  return int_vectorize_layer(text), label\n"
      ],
      "metadata": {
        "id": "Pvep7iVmgp1K"
      },
      "execution_count": 23,
      "outputs": []
    },
    {
      "cell_type": "code",
      "source": [
        "# Retrieve a batch (of 32 reviews and labels) from the dataset.\n",
        "text_batch, label_batch = next(iter(raw_train_ds))\n",
        "first_question, first_label = text_batch[0], label_batch[0]\n",
        "print(\"Question\", first_question)\n",
        "print(\"Label\", first_label)\n"
      ],
      "metadata": {
        "colab": {
          "base_uri": "https://localhost:8080/"
        },
        "id": "VbEPgovKlU3W",
        "outputId": "d53634ac-eb14-4204-d8ab-fc521dc3448a"
      },
      "execution_count": 24,
      "outputs": [
        {
          "output_type": "stream",
          "name": "stdout",
          "text": [
            "Question tf.Tensor(b'Por que economista do MIT diz que os EUA est\\xc3\\xa3o cada vez mais parecidos com a Argentina. Autor de um livro sobre o desaparecimento da classe m\\xc3\\xa9dia nos Estados Unidos, Peter Temin explica as semelhan\\xc3\\xa7as que v\\xc3\\xaa entre a maior economia do mundo e pa\\xc3\\xadses emergentes..  A Am\\xc3\\xa9rica Latina conhece bem sociedades em que h\\xc3\\xa1 um enorme abismo entre ricos e pobres, mas o economista Peter Temin acredita que esse fen\\xc3\\xb4meno alcan\\xc3\\xa7a cada vez mais a maior economia do mundo: os Estados Unidos. Professor de Economia do prestigiado Instituto de Tecnologia de Massachusetts (MIT, na sigla em ingl\\xc3\\xaas), ele faz uma compara\\xc3\\xa7\\xc3\\xa3o com um pa\\xc3\\xads latinoamericano em particular. \"Minha sensa\\xc3\\xa7\\xc3\\xa3o \\xc3\\xa9 que estamos ficando mais parecidos com a Argentina\", diz ele. Seu paralelo vai al\\xc3\\xa9m do potencial econ\\xc3\\xb4mico de duas grandes na\\xc3\\xa7\\xc3\\xb5es com recursos naturais, que conseguiram desenvolver suas classes m\\xc3\\xa9dias, e atinge tamb\\xc3\\xa9m a pol\\xc3\\xadtica, com as f\\xc3\\xb3rmulas aplicadas pelo l\\xc3\\xadder argentino Juan Domingo Per\\xc3\\xb3n no s\\xc3\\xa9culo passado e que hoje o presidente americano, Donald Trump, ensaia adotar. Autor de The Vanishing Middle Class: Prejudice and Power in a Dual Economy (A Classe M\\xc3\\xa9dia em Extin\\xc3\\xa7\\xc3\\xa3o: Preconceito e Poder em uma Economia Dual, em tradu\\xc3\\xa7\\xc3\\xa3o livre), obra eleita uma das melhores da \\xc3\\xa1rea econ\\xc3\\xb4mica de 2017 pelo jornal brit\\xc3\\xa2nico Financial Times, Temin acredita que o problema dos Estados Unidos remonta aos tempos em que o pa\\xc3\\xads surgiu, como explica na entrevista a seguir. BBC Mundo - O senhor defende haver dois pa\\xc3\\xadses diferentes dentro dos Estados Unidos. Pode explicar melhor essa ideia? O ponto crucial foi nos anos 1970. Antes disso, os sal\\xc3\\xa1rios haviam aumentado com a produtividade. Dali em diante, por quase 50 anos, os sal\\xc3\\xa1rios reais (descontada a infla\\xc3\\xa7\\xc3\\xa3o) t\\xc3\\xaam permanecido est\\xc3\\xa1veis nos Estados Unidos. Ainda que a economia tenha se expandido, a expans\\xc3\\xa3o foi para os ricos, o que chamo de setor FTE (as ind\\xc3\\xbastrias de finan\\xc3\\xa7as, tecnologia e eletr\\xc3\\xb4nica), aproximadamente 20% da popula\\xc3\\xa7\\xc3\\xa3o. E a classe m\\xc3\\xa9dia est\\xc3\\xa1 desaparecendo. \\xc3\\x89 uma mistura de fatores econ\\xc3\\xb4micos, tecnologia, crescente globaliza\\xc3\\xa7\\xc3\\xa3o e pol\\xc3\\xadtica. BBC Mundo - Qu\\xc3\\xa3o profundo \\xc3\\xa9 esse problema? A forma como isso se deu nos Estados Unidos remonta ao fim do s\\xc3\\xa9culo 17 e \\xc3\\xa0 escravid\\xc3\\xa3o. Lutamos uma guerra civil por isso. Mas n\\xc3\\xa3o acabamos com o preconceito contra pessoas de descend\\xc3\\xaancia africana. A f\\xc3\\xbaria da classe m\\xc3\\xa9dia e dos pobres que est\\xc3\\xa3o sendo deixados de fora do crescimento econ\\xc3\\xb4mico se desviou dos aspectos econ\\xc3\\xb4micos para o racismo. \\xc3\\x89 dizer aos brancos pobres que ao menos eles est\\xc3\\xa3o melhor que os negros pobres. BBC Mundo - Pode dar alguns dados que ilustram esse fen\\xc3\\xb4meno? Os n\\xc3\\xbameros do livro v\\xc3\\xa3o de 1970 a 2014 e se baseiam em um estudo do instituto de pesquisas Pew. A classe m\\xc3\\xa9dia passou de representar 62% da renda agregada dos Estados Unidos para representar 43%. Essa \\xc3\\xa9 a classe m\\xc3\\xa9dia que desaparece. Enquanto os mais ricos, do setor FTE, passaram a representar de 29% a 49%. Politicamente, h\\xc3\\xa1 um conjunto ainda menor de pessoas que \\xc3\\xa9 dominante. A elei\\xc3\\xa7\\xc3\\xa3o de 2016, que \\xc3\\xa9 problem\\xc3\\xa1tica, \\xc3\\xa9 parte dessa f\\xc3\\xbaria da qual falava. O presidente Trump n\\xc3\\xa3o ganhou pelo voto popular, perdeu por tr\\xc3\\xaas milh\\xc3\\xb5es de votos. Mas ganhou no sistema de col\\xc3\\xa9gios eleitorais de nosso sistema federal. Isso se deve \\xc3\\xa0 quantidade de dinheiro envolvido na pol\\xc3\\xadtica americana. S\\xc3\\xa3o aqueles que fazem parte do 1% da popula\\xc3\\xa7\\xc3\\xa3o que t\\xc3\\xaam a maior renda, os plutocratas, que tomam as decis\\xc3\\xb5es pol\\xc3\\xadticas. BBC Mundo - Mas Trump diz que os n\\xc3\\xadveis de desemprego entre hisp\\xc3\\xa2nicos e afroamericanos est\\xc3\\xa3o entre os mais baixos da hist\\xc3\\xb3ria... Sim, porque a economia cresce, e alguns conseguem trabalho. Mas essas taxas de desemprego s\\xc3\\xa3o mais elevadas que aquela entre os brancos. Ainda que a expans\\xc3\\xa3o econ\\xc3\\xb4mica seja boa para todos, porque isso faz com que as empresas precisem de mais trabalhadores. Um dos problemas neste momento, no entanto, \\xc3\\xa9 que o governo de Trump tem permitido muita concentra\\xc3\\xa7\\xc3\\xa3o nas ind\\xc3\\xbastrias e n\\xc3\\xa3o tem aplicado as regras contra monop\\xc3\\xb3lio. \\xc3\\x89 uma op\\xc3\\xa7\\xc3\\xa3o pol\\xc3\\xadtica. Ent\\xc3\\xa3o, as empresas se juntam e, ainda que necessitem de mais m\\xc3\\xa3o de obra, n\\xc3\\xa3o querem pagar sal\\xc3\\xa1rios mais altos. Como resultado, o n\\xc3\\xbamero de empregos aumenta, mas a press\\xc3\\xa3o para elevar os sal\\xc3\\xa1rios n\\xc3\\xa3o obt\\xc3\\xa9m muito sucesso. Ainda que haja pequenos aumentos, n\\xc3\\xa3o s\\xc3\\xa3o o bastante para elev\\xc3\\xa1-los \\xc3\\xa0 mesma propor\\xc3\\xa7\\xc3\\xa3o da renda de h\\xc3\\xa1 50 anos. BBC Mundo - \\xc3\\x89 poss\\xc3\\xadvel comparar a situa\\xc3\\xa7\\xc3\\xa3o dos Estados Unidos com a da Am\\xc3\\xa9rica Latina, a regi\\xc3\\xa3o mais desigual do mundo? Minha sensa\\xc3\\xa7\\xc3\\xa3o \\xc3\\xa9 que estamos ficando cada vez mais parecidos com a Argentina. No entanto, quando dei um semin\\xc3\\xa1rio sobre isso no MIT, um dos meus estudantes disse: \"Isso se parece com o Brasil\". Falo Argentina porque, h\\xc3\\xa1 um s\\xc3\\xa9culo, era um dos dez pa\\xc3\\xadses mais ricos do mundo. E a pol\\xc3\\xadtica tornou-se muito antag\\xc3\\xb4nica entre dois diferentes grupos da popula\\xc3\\xa7\\xc3\\xa3o. Os l\\xc3\\xadderes do pa\\xc3\\xads tomaram decis\\xc3\\xb5es ruins, como ter se voltado para dentro de si com Per\\xc3\\xb3n durante a expans\\xc3\\xa3o da economia global ap\\xc3\\xb3s a Segunda Guerra Mundial. E o que acontece agora nos Estados Unidos \\xc3\\xa9 o mesmo, voltando-se para dentro, ignorando o que ocorre no resto do mundo. Isso me parece ser o paralelo mais pr\\xc3\\xb3ximo: um grande pa\\xc3\\xads com recursos naturais adequados, que exportou com sucesso... Quase tr\\xc3\\xaas quartos de s\\xc3\\xa9culos atr\\xc3\\xa1s, a tecnologia era muito diferente, mas a pol\\xc3\\xadtica parece ser muito similar. Uma das coisas que n\\xc3\\xa3o explorei em detalhe, mas que est\\xc3\\xa1 se tornando mais evidente, \\xc3\\xa9 que a corrup\\xc3\\xa7\\xc3\\xa3o, que tem sido um ponto importante da pol\\xc3\\xadtica na Argentina, no Brasil etc, est\\xc3\\xa1 vindo para os Estados Unidos. H\\xc3\\xa1 governos em que h\\xc3\\xa1 conflitos de interesse, que recebem o apoio de ind\\xc3\\xbastrias que deveriam regular. BBC Mundo - Como podemos comparar o que ocorre agora nos Estados Unidos com o peronismo na Argentina? H\\xc3\\xa1 uma grande diferen\\xc3\\xa7a: que a Argentina atravessou um per\\xc3\\xadodo muito ruim de viol\\xc3\\xaancia entre v\\xc3\\xa1rios grupos. N\\xc3\\xb3s n\\xc3\\xa3o chegamos t\\xc3\\xa3o longe. Mas diria que os paralelos que vejo se resumem a dois aspectos. Um \\xc3\\xa9 que Per\\xc3\\xb3n tendeu a favorecer um grupo da popula\\xc3\\xa7\\xc3\\xa3o sobre os outros. O segundo \\xc3\\xa9 que ele desenvolveu o pa\\xc3\\xads internamente em vez de torn\\xc3\\xa1-lo uma economia mundial. E \\xc3\\xa9 isso que Trump parece estar tentando fazer atualmente. BBC Mundo - E como se compara a desigualdade nos Estados Unidos com as de outros pa\\xc3\\xadses? Tem um n\\xc3\\xadvel mais alto que em outros pa\\xc3\\xadses europeus, mas n\\xc3\\xa3o acredito que seja t\\xc3\\xa3o alto quanto nos latinoamericanos. Mas, na Europa, a direita est\\xc3\\xa1 ganhando poder pol\\xc3\\xadtico, em uma esp\\xc3\\xa9cie de paralelo com os Estados Unidos. L\\xc3\\xa1, o preconceito n\\xc3\\xa3o \\xc3\\xa9 com os negros, mas com os mu\\xc3\\xa7ulmanos, refugiados do Oriente M\\xc3\\xa9dio. H\\xc3\\xa1 um contexto racial ou religioso. \\xc3\\x89 mais compar\\xc3\\xa1vel aos latinos nos Estados Unidos do que aos negros, porque s\\xc3\\xa3o imigrantes recentes. BBC Mundo - O que recomenda para reduzir a desigualdade nos Estados Unidos ou na Am\\xc3\\xa9rica Latina? Uma vez que essa situa\\xc3\\xa7\\xc3\\xa3o se instaura, \\xc3\\xa9 muito dif\\xc3\\xadcil sair dela. Suponho que a experi\\xc3\\xaancia da Am\\xc3\\xa9rica Latina ilustra isso. Dado que n\\xc3\\xb3s levamos 50 anos para chegar aonde estamos, sinto que poderia levar 50 anos para sair disso. O primeiro passo \\xc3\\xa9 eleger um governo que queira fazer isso, se for poss\\xc3\\xadvel. O governo atual nos Estados Unidos \\xc3\\xa9 muito favor\\xc3\\xa1vel aos ricos. O corte de impostos aprovado no fim de 2017 favorece os mais ricos. Isso precisa ser revertido. O segundo \\xc3\\xa9 a educa\\xc3\\xa7\\xc3\\xa3o, para superar os preconceitos e dar \\xc3\\xa0s pessoas capacidade de que possam chegar \\xc3\\xa0 classe alta. Nos Estados Unidos, o setor FTE tem uma boa educa\\xc3\\xa7\\xc3\\xa3o. Mas, abaixo disso e especialmente dentro de nossas cidades, a educa\\xc3\\xa7\\xc3\\xa3o p\\xc3\\xbablica \\xc3\\xa9 terr\\xc3\\xadvel.', shape=(), dtype=string)\n",
            "Label tf.Tensor(0, shape=(), dtype=int8)\n"
          ]
        }
      ]
    },
    {
      "cell_type": "code",
      "source": [
        "print(\"'binary' vectorized question:\",\n",
        "      binary_vectorize_text(first_question, first_label)[0])\n",
        "print()\n",
        "print(\"'int' vectorized question:\",\n",
        "      int_vectorize_text(first_question, first_label)[0])\n"
      ],
      "metadata": {
        "colab": {
          "base_uri": "https://localhost:8080/"
        },
        "id": "_Rq8OMiglXl6",
        "outputId": "f578d728-36ae-499e-a973-73f7a3681269"
      },
      "execution_count": 25,
      "outputs": [
        {
          "output_type": "stream",
          "name": "stdout",
          "text": [
            "'binary' vectorized question: tf.Tensor([[1. 1. 1. ... 0. 0. 0.]], shape=(1, 10000), dtype=float32)\n",
            "\n",
            "'int' vectorized question: tf.Tensor(\n",
            "[[  19    6 3438    7    1   71    6   17  197  120  289  185   26    1\n",
            "    13    4 3612 1150    3   12 1068   45    2 5926    8 1749 1507   62\n",
            "   259  403 8633    1 1037   22    1    6 1545   60    4  193  394    7\n",
            "   115    5  426    1    4 1148 2688 3136  236 7399    9    6   69   12\n",
            "  1961    1   60 4687    5 2774   30    2 3438 8633    1 1611    6  124\n",
            "  2843    1  289  185   26    4  193  394    7  115   17  259  403  857\n",
            "     3  394    7    1  238    3  981    3    1    1   15 2017    9 1421\n",
            "    27  296]], shape=(1, 100), dtype=int64)\n"
          ]
        }
      ]
    },
    {
      "cell_type": "code",
      "source": [
        "print(\"1289 ---> \", int_vectorize_layer.get_vocabulary()[1289])\n",
        "print(\"313 ---> \", int_vectorize_layer.get_vocabulary()[313])\n",
        "print(\"Vocabulary size: {}\".format(len(int_vectorize_layer.get_vocabulary())))\n"
      ],
      "metadata": {
        "colab": {
          "base_uri": "https://localhost:8080/"
        },
        "id": "uMm9DO_nlmtc",
        "outputId": "f2db3cdb-d853-4d59-ea93-c66d54ca23e3"
      },
      "execution_count": 26,
      "outputs": [
        {
          "output_type": "stream",
          "name": "stdout",
          "text": [
            "1289 --->  chino\n",
            "313 --->  base\n",
            "Vocabulary size: 10000\n"
          ]
        }
      ]
    },
    {
      "cell_type": "code",
      "source": [
        "# encoding all datasets\n",
        "\n",
        "binary_train_ds = raw_train_ds.map(binary_vectorize_text)\n",
        "binary_val_ds = raw_val_ds.map(binary_vectorize_text)\n",
        "binary_test_ds = raw_test_ds.map(binary_vectorize_text)\n",
        "\n",
        "int_train_ds = raw_train_ds.map(int_vectorize_text)\n",
        "int_val_ds = raw_val_ds.map(int_vectorize_text)\n",
        "int_test_ds = raw_test_ds.map(int_vectorize_text)\n"
      ],
      "metadata": {
        "id": "xRub2dyAlsHb"
      },
      "execution_count": 27,
      "outputs": []
    },
    {
      "cell_type": "code",
      "source": [
        "AUTOTUNE = tf.data.AUTOTUNE\n",
        "\n",
        "def configure_dataset(dataset):\n",
        "  return dataset.cache().prefetch(buffer_size=AUTOTUNE)\n",
        "\n",
        "binary_train_ds = configure_dataset(binary_train_ds)\n",
        "binary_val_ds = configure_dataset(binary_val_ds)\n",
        "binary_test_ds = configure_dataset(binary_test_ds)\n",
        "\n",
        "int_train_ds = configure_dataset(int_train_ds)\n",
        "int_val_ds = configure_dataset(int_val_ds)\n",
        "int_test_ds = configure_dataset(int_test_ds)\n"
      ],
      "metadata": {
        "id": "WCM08EpYl-F0"
      },
      "execution_count": 28,
      "outputs": []
    },
    {
      "cell_type": "markdown",
      "source": [
        "## Modelagem"
      ],
      "metadata": {
        "id": "ToE8BJRCcZVx"
      }
    },
    {
      "cell_type": "markdown",
      "source": [
        "#### helpers"
      ],
      "metadata": {
        "id": "3HFjCAJWtvqZ"
      }
    },
    {
      "cell_type": "code",
      "source": [
        "import keras\n",
        "from matplotlib import pyplot as plt\n",
        "\n",
        "def plot_accuracy(history):\n",
        "  plt.plot(history.history['accuracy'])\n",
        "  plt.plot(history.history['val_accuracy'])\n",
        "  plt.title('model accuracy')\n",
        "  plt.ylabel('accuracy')\n",
        "  plt.xlabel('epoch')\n",
        "  plt.legend(['train', 'val'], loc='upper left')\n",
        "  plt.show()\n",
        "\n",
        "def plot_loss(history):\n",
        "  plt.plot(history.history['loss'])\n",
        "  plt.plot(history.history['val_loss'])\n",
        "  plt.title('model loss')\n",
        "  plt.ylabel('loss')\n",
        "  plt.xlabel('epoch')\n",
        "  plt.legend(['train', 'val'], loc='upper left')\n",
        "  plt.show()"
      ],
      "metadata": {
        "id": "Dn21GT__tuzO"
      },
      "execution_count": 29,
      "outputs": []
    },
    {
      "cell_type": "markdown",
      "source": [
        "#### Binary Model"
      ],
      "metadata": {
        "id": "Jtss1RVXtzJN"
      }
    },
    {
      "cell_type": "code",
      "source": [
        "from tensorflow.keras import layers\n",
        "from tensorflow.keras import losses\n",
        "\n",
        "binary_model = tf.keras.Sequential([layers.Dense(2)])\n",
        "\n",
        "binary_model.compile(\n",
        "    loss=losses.SparseCategoricalCrossentropy(from_logits=True),\n",
        "    optimizer='adam',\n",
        "    metrics=['accuracy'])\n",
        "\n",
        "history = binary_model.fit(\n",
        "    binary_train_ds, validation_data=binary_val_ds, epochs=10)\n",
        "plot_loss(history)\n",
        "plot_accuracy(history)"
      ],
      "metadata": {
        "colab": {
          "base_uri": "https://localhost:8080/",
          "height": 920
        },
        "id": "pSCiez_ymGUN",
        "outputId": "c1a763f3-d391-4859-e844-5263b0ec756d"
      },
      "execution_count": 30,
      "outputs": [
        {
          "output_type": "stream",
          "name": "stdout",
          "text": [
            "Epoch 1/10\n",
            "448/448 [==============================] - 3s 6ms/step - loss: 0.2748 - accuracy: 0.9296 - val_loss: 0.1707 - val_accuracy: 0.9539\n",
            "Epoch 2/10\n",
            "448/448 [==============================] - 1s 3ms/step - loss: 0.1250 - accuracy: 0.9698 - val_loss: 0.1321 - val_accuracy: 0.9564\n",
            "Epoch 3/10\n",
            "448/448 [==============================] - 1s 3ms/step - loss: 0.0876 - accuracy: 0.9810 - val_loss: 0.1183 - val_accuracy: 0.9598\n",
            "Epoch 4/10\n",
            "448/448 [==============================] - 1s 3ms/step - loss: 0.0676 - accuracy: 0.9856 - val_loss: 0.1124 - val_accuracy: 0.9590\n",
            "Epoch 5/10\n",
            "448/448 [==============================] - 1s 3ms/step - loss: 0.0546 - accuracy: 0.9883 - val_loss: 0.1099 - val_accuracy: 0.9573\n",
            "Epoch 6/10\n",
            "448/448 [==============================] - 1s 3ms/step - loss: 0.0454 - accuracy: 0.9917 - val_loss: 0.1095 - val_accuracy: 0.9556\n",
            "Epoch 7/10\n",
            "448/448 [==============================] - 1s 3ms/step - loss: 0.0384 - accuracy: 0.9942 - val_loss: 0.1102 - val_accuracy: 0.9581\n",
            "Epoch 8/10\n",
            "448/448 [==============================] - 1s 3ms/step - loss: 0.0329 - accuracy: 0.9952 - val_loss: 0.1118 - val_accuracy: 0.9581\n",
            "Epoch 9/10\n",
            "448/448 [==============================] - 1s 3ms/step - loss: 0.0285 - accuracy: 0.9963 - val_loss: 0.1139 - val_accuracy: 0.9581\n",
            "Epoch 10/10\n",
            "448/448 [==============================] - 1s 3ms/step - loss: 0.0249 - accuracy: 0.9965 - val_loss: 0.1165 - val_accuracy: 0.9581\n"
          ]
        },
        {
          "output_type": "display_data",
          "data": {
            "text/plain": [
              "<Figure size 432x288 with 1 Axes>"
            ],
            "image/png": "[encoded data removed]"
          },
          "metadata": {
            "needs_background": "light"
          }
        },
        {
          "output_type": "display_data",
          "data": {
            "text/plain": [
              "<Figure size 432x288 with 1 Axes>"
            ],
            "image/png": "[encoded data removed]"
          },
          "metadata": {
            "needs_background": "light"
          }
        }
      ]
    },
    {
      "cell_type": "code",
      "source": [
        "print(\"Linear model on binary vectorized data:\")\n",
        "print(binary_model.summary())\n"
      ],
      "metadata": {
        "colab": {
          "base_uri": "https://localhost:8080/"
        },
        "id": "icLtTTmkmy74",
        "outputId": "5c1f2dd9-c92c-4e20-b8b5-25922cf19d18"
      },
      "execution_count": 31,
      "outputs": [
        {
          "output_type": "stream",
          "name": "stdout",
          "text": [
            "Linear model on binary vectorized data:\n",
            "Model: \"sequential\"\n",
            "_________________________________________________________________\n",
            " Layer (type)                Output Shape              Param #   \n",
            "=================================================================\n",
            " dense (Dense)               (None, 2)                 20002     \n",
            "                                                                 \n",
            "=================================================================\n",
            "Total params: 20,002\n",
            "Trainable params: 20,002\n",
            "Non-trainable params: 0\n",
            "_________________________________________________________________\n",
            "None\n"
          ]
        }
      ]
    },
    {
      "cell_type": "markdown",
      "source": [
        "#### Int Model"
      ],
      "metadata": {
        "id": "_FAa6zBct7A_"
      }
    },
    {
      "cell_type": "code",
      "source": [
        "def create_model(vocab_size, num_labels):\n",
        "  model = tf.keras.Sequential([\n",
        "      layers.Embedding(vocab_size, 64, mask_zero=True),\n",
        "      layers.Conv1D(64, 5, padding=\"valid\", activation=\"relu\", strides=2),\n",
        "      layers.GlobalMaxPooling1D(),\n",
        "      layers.Dense(num_labels)\n",
        "  ])\n",
        "  return model\n",
        "\n",
        "# `vocab_size` is `VOCAB_SIZE + 1` since `0` is used additionally for padding.\n",
        "int_model = create_model(vocab_size=VOCAB_SIZE + 1, num_labels=2)\n",
        "int_model.compile(\n",
        "    loss=losses.SparseCategoricalCrossentropy(from_logits=True),\n",
        "    optimizer='adam',\n",
        "    metrics=['accuracy'])\n",
        "history = int_model.fit(int_train_ds, validation_data=int_val_ds, epochs=5)\n",
        "plot_loss(history)\n",
        "plot_accuracy(history)"
      ],
      "metadata": {
        "colab": {
          "base_uri": "https://localhost:8080/",
          "height": 747
        },
        "id": "NF6V3m4omlyK",
        "outputId": "12d7d786-96be-4610-9ebf-69b7a652ec5d"
      },
      "execution_count": 32,
      "outputs": [
        {
          "output_type": "stream",
          "name": "stdout",
          "text": [
            "Epoch 1/5\n",
            "448/448 [==============================] - 9s 20ms/step - loss: 0.3551 - accuracy: 0.8293 - val_loss: 0.2136 - val_accuracy: 0.9154\n",
            "Epoch 2/5\n",
            "448/448 [==============================] - 7s 16ms/step - loss: 0.1282 - accuracy: 0.9538 - val_loss: 0.2059 - val_accuracy: 0.9255\n",
            "Epoch 3/5\n",
            "448/448 [==============================] - 7s 16ms/step - loss: 0.0433 - accuracy: 0.9881 - val_loss: 0.2252 - val_accuracy: 0.9246\n",
            "Epoch 4/5\n",
            "448/448 [==============================] - 7s 16ms/step - loss: 0.0105 - accuracy: 0.9983 - val_loss: 0.2680 - val_accuracy: 0.9179\n",
            "Epoch 5/5\n",
            "448/448 [==============================] - 7s 16ms/step - loss: 0.0036 - accuracy: 0.9996 - val_loss: 0.2900 - val_accuracy: 0.9188\n"
          ]
        },
        {
          "output_type": "display_data",
          "data": {
            "text/plain": [
              "<Figure size 432x288 with 1 Axes>"
            ],
            "image/png": "[encoded data removed]"
          },
          "metadata": {
            "needs_background": "light"
          }
        },
        {
          "output_type": "display_data",
          "data": {
            "text/plain": [
              "<Figure size 432x288 with 1 Axes>"
            ],
            "image/png": "[encoded data removed]"
          },
          "metadata": {
            "needs_background": "light"
          }
        }
      ]
    },
    {
      "cell_type": "code",
      "source": [
        "print(\"ConvNet model on int vectorized data:\")\n",
        "print(int_model.summary())\n"
      ],
      "metadata": {
        "colab": {
          "base_uri": "https://localhost:8080/"
        },
        "id": "VB2a4zUum22e",
        "outputId": "e453f5a7-dff3-4988-8e5f-2534248b814f"
      },
      "execution_count": 33,
      "outputs": [
        {
          "output_type": "stream",
          "name": "stdout",
          "text": [
            "ConvNet model on int vectorized data:\n",
            "Model: \"sequential_1\"\n",
            "_________________________________________________________________\n",
            " Layer (type)                Output Shape              Param #   \n",
            "=================================================================\n",
            " embedding (Embedding)       (None, None, 64)          640064    \n",
            "                                                                 \n",
            " conv1d (Conv1D)             (None, None, 64)          20544     \n",
            "                                                                 \n",
            " global_max_pooling1d (Globa  (None, 64)               0         \n",
            " lMaxPooling1D)                                                  \n",
            "                                                                 \n",
            " dense_1 (Dense)             (None, 2)                 130       \n",
            "                                                                 \n",
            "=================================================================\n",
            "Total params: 660,738\n",
            "Trainable params: 660,738\n",
            "Non-trainable params: 0\n",
            "_________________________________________________________________\n",
            "None\n"
          ]
        }
      ]
    },
    {
      "cell_type": "code",
      "source": [
        "binary_loss, binary_accuracy = binary_model.evaluate(binary_test_ds)\n",
        "int_loss, int_accuracy = int_model.evaluate(int_test_ds)\n",
        "\n",
        "print(\"Binary model accuracy: {:2.2%}\".format(binary_accuracy))\n",
        "print(\"Int model accuracy: {:2.2%}\".format(int_accuracy))\n"
      ],
      "metadata": {
        "colab": {
          "base_uri": "https://localhost:8080/"
        },
        "id": "z0ZYEd-um4x3",
        "outputId": "6dc79f13-723a-4396-bc32-ece3de352877"
      },
      "execution_count": 34,
      "outputs": [
        {
          "output_type": "stream",
          "name": "stdout",
          "text": [
            "112/112 [==============================] - 1s 4ms/step - loss: 0.1012 - accuracy: 0.9657\n",
            "112/112 [==============================] - 1s 5ms/step - loss: 0.3018 - accuracy: 0.9123\n",
            "Binary model accuracy: 96.57%\n",
            "Int model accuracy: 91.23%\n"
          ]
        }
      ]
    },
    {
      "cell_type": "markdown",
      "source": [
        "#### Validando o modelo final no dataset de teste puro"
      ],
      "metadata": {
        "id": "ifrC4U7PkBz8"
      }
    },
    {
      "cell_type": "code",
      "source": [
        "export_model = tf.keras.Sequential(\n",
        "    [binary_vectorize_layer, binary_model,\n",
        "     layers.Activation('softmax')])\n",
        "\n",
        "export_model.compile(\n",
        "    loss=losses.SparseCategoricalCrossentropy(from_logits=False),\n",
        "    optimizer='adam',\n",
        "    metrics=['accuracy'])\n",
        "\n",
        "# Test it with `raw_test_ds`, which yields raw strings\n",
        "loss, accuracy = export_model.evaluate(raw_test_ds)\n",
        "print(\"Accuracy: {:2.2%}\".format(binary_accuracy))\n"
      ],
      "metadata": {
        "colab": {
          "base_uri": "https://localhost:8080/"
        },
        "id": "KMaWS1Xfm5UW",
        "outputId": "7c2ef29c-cc45-41f2-bef6-22b17fd26e25"
      },
      "execution_count": 35,
      "outputs": [
        {
          "output_type": "stream",
          "name": "stdout",
          "text": [
            "112/112 [==============================] - 1s 4ms/step - loss: 0.1012 - accuracy: 0.9657\n",
            "Accuracy: 96.57%\n"
          ]
        }
      ]
    },
    {
      "cell_type": "code",
      "source": [
        "random = np.random.randint(0, final_data.shape[0])\n",
        "inputs = [\n",
        "    final_data.text[random]\n",
        "]\n",
        "\n",
        "predicted_scores = export_model.predict(inputs)\n",
        "predicted_labels = tf.argmax(predicted_scores, axis=1)\n",
        "\n",
        "print(predicted_labels[0])\n",
        "print([i.round(2) for i in predicted_scores[0]])\n",
        "print(final_data.label[random])\n"
      ],
      "metadata": {
        "colab": {
          "base_uri": "https://localhost:8080/"
        },
        "id": "xvcyvHI1nDNy",
        "outputId": "4f2c687e-f503-4424-c366-8a10e1bb21a0"
      },
      "execution_count": 42,
      "outputs": [
        {
          "output_type": "stream",
          "name": "stdout",
          "text": [
            "tf.Tensor(1, shape=(), dtype=int64)\n",
            "[0.01, 0.99]\n",
            "1\n"
          ]
        }
      ]
    },
    {
      "cell_type": "code",
      "source": [
        "# salvando modelo\n",
        "export_model.save('/content/drive/MyDrive/Mentorama/projeto_final/modelo_final_0')"
      ],
      "metadata": {
        "id": "KiAJVtoTus-B"
      },
      "execution_count": 37,
      "outputs": []
    },
    {
      "cell_type": "markdown",
      "source": [
        "#### Save to production"
      ],
      "metadata": {
        "id": "_1c4f6I_yD8y"
      }
    },
    {
      "cell_type": "code",
      "source": [
        "from joblib import dump, load"
      ],
      "metadata": {
        "id": "CCd0UjiOyF00"
      },
      "execution_count": 38,
      "outputs": []
    },
    {
      "cell_type": "code",
      "source": [
        "dump(export_model, '/content/drive/MyDrive/Mentorama/projeto_final/fake-detector_v0.joblib')"
      ],
      "metadata": {
        "colab": {
          "base_uri": "https://localhost:8080/"
        },
        "id": "0xXo8wLryIgs",
        "outputId": "be76c2b5-4d3c-493f-fdd2-e1d9c421d167"
      },
      "execution_count": 39,
      "outputs": [
        {
          "output_type": "execute_result",
          "data": {
            "text/plain": [
              "['/content/drive/MyDrive/Mentorama/projeto_final/fake-detector_v0.joblib']"
            ]
          },
          "metadata": {},
          "execution_count": 39
        }
      ]
    },
    {
      "cell_type": "code",
      "source": [],
      "metadata": {
        "id": "IyrQRe3KyYnd"
      },
      "execution_count": 39,
      "outputs": []
    }
  ]
}