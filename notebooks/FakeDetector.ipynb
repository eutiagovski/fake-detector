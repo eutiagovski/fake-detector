{
  "nbformat": 4,
  "nbformat_minor": 0,
  "metadata": {
    "colab": {
      "provenance": []
    },
    "kernelspec": {
      "name": "python3",
      "display_name": "Python 3"
    },
    "language_info": {
      "name": "python"
    }
  },
  "cells": [
    {
      "cell_type": "markdown",
      "source": [
        "#### ref. https://www.tensorflow.org/tutorials/load_data/text?hl=pt-br"
      ],
      "metadata": {
        "id": "T3fLZJHewg7n"
      }
    },
    {
      "cell_type": "code",
      "execution_count": 3,
      "metadata": {
        "colab": {
          "base_uri": "https://localhost:8080/"
        },
        "id": "f74Tp61xbh8h",
        "outputId": "8895ed13-c083-4ff8-e576-d048f9c2ab80"
      },
      "outputs": [
        {
          "output_type": "stream",
          "name": "stdout",
          "text": [
            "Archive:  /content/drive/MyDrive/Mentorama/projeto_final/news.zip\n",
            "  inflating: /content/drive/MyDrive/Mentorama/projeto_final/news/news.csv  \n"
          ]
        }
      ],
      "source": [
        "!unzip /content/drive/MyDrive/Mentorama/projeto_final/news.zip -d /content/drive/MyDrive/Mentorama/projeto_final/news"
      ]
    },
    {
      "cell_type": "code",
      "source": [
        "from google.colab import drive\n",
        "drive.mount('/content/drive')"
      ],
      "metadata": {
        "colab": {
          "base_uri": "https://localhost:8080/"
        },
        "id": "dh3L6H79bl0q",
        "outputId": "19093739-caf1-4ba8-c8ad-db9766434eab"
      },
      "execution_count": 1,
      "outputs": [
        {
          "output_type": "stream",
          "name": "stdout",
          "text": [
            "Drive already mounted at /content/drive; to attempt to forcibly remount, call drive.mount(\"/content/drive\", force_remount=True).\n"
          ]
        }
      ]
    },
    {
      "cell_type": "code",
      "source": [
        "import pandas as pd\n",
        "import numpy as np\n",
        "import matplotlib.pyplot as plt"
      ],
      "metadata": {
        "id": "fVq0lDI9b5eR"
      },
      "execution_count": 2,
      "outputs": []
    },
    {
      "cell_type": "code",
      "source": [
        "import tensorflow as tf"
      ],
      "metadata": {
        "id": "G_lz0Pzccou5"
      },
      "execution_count": 3,
      "outputs": []
    },
    {
      "cell_type": "markdown",
      "source": [
        "0 - REAL\n",
        "\n",
        "1 - FAKE"
      ],
      "metadata": {
        "id": "taO51HJPqLeg"
      }
    },
    {
      "cell_type": "code",
      "source": [
        "news_data = pd.read_csv('https://storage.cloudconvert.com/tasks/80fa1fc1-7ad1-4d0c-b31c-9b08051a0923/FakeRecogna_no_removal_words.csv?AWSAccessKeyId=cloudconvert-production&Expires=1663458676&Signature=RLX8O98P7iYvRbGCI6cBsyCWrQM%3D&response-content-disposition=attachment%3B%20filename%3D%22FakeRecogna_no_removal_words.csv%22&response-content-type=text%2Fcsv', index_col=[0])\n",
        "\n",
        "news_data['label'] = news_data['Classe'].apply(lambda x: 1 if x == 0 else 0)\n",
        "news_data['text'] = news_data['Noticia'].apply(lambda x: str(x))\n",
        "\n",
        "news_data = news_data.drop(['Subtitulo', 'Noticia', 'Categoria', 'Data', 'Autor', 'URL', 'Classe'], axis=1)\n",
        "news_data = news_data.reset_index(drop=True)\n",
        "news_data.head(1)"
      ],
      "metadata": {
        "colab": {
          "base_uri": "https://localhost:8080/",
          "height": 81
        },
        "id": "tWqz6Ocyb9Qi",
        "outputId": "2fd56b96-a655-4636-eace-942d3f516adf"
      },
      "execution_count": 112,
      "outputs": [
        {
          "output_type": "execute_result",
          "data": {
            "text/plain": [
              "   label                                               text\n",
              "0      1  bomba lira fraudar o votação brasília explodir..."
            ],
            "text/html": [
              "\n",
              "  <div id=\"df-9831835e-b3fe-4992-8102-7f2667bc7fcd\">\n",
              "    <div class=\"colab-df-container\">\n",
              "      <div>\n",
              "<style scoped>\n",
              "    .dataframe tbody tr th:only-of-type {\n",
              "        vertical-align: middle;\n",
              "    }\n",
              "\n",
              "    .dataframe tbody tr th {\n",
              "        vertical-align: top;\n",
              "    }\n",
              "\n",
              "    .dataframe thead th {\n",
              "        text-align: right;\n",
              "    }\n",
              "</style>\n",
              "<table border=\"1\" class=\"dataframe\">\n",
              "  <thead>\n",
              "    <tr style=\"text-align: right;\">\n",
              "      <th></th>\n",
              "      <th>label</th>\n",
              "      <th>text</th>\n",
              "    </tr>\n",
              "  </thead>\n",
              "  <tbody>\n",
              "    <tr>\n",
              "      <th>0</th>\n",
              "      <td>1</td>\n",
              "      <td>bomba lira fraudar o votação brasília explodir...</td>\n",
              "    </tr>\n",
              "  </tbody>\n",
              "</table>\n",
              "</div>\n",
              "      <button class=\"colab-df-convert\" onclick=\"convertToInteractive('df-9831835e-b3fe-4992-8102-7f2667bc7fcd')\"\n",
              "              title=\"Convert this dataframe to an interactive table.\"\n",
              "              style=\"display:none;\">\n",
              "        \n",
              "  <svg xmlns=\"http://www.w3.org/2000/svg\" height=\"24px\"viewBox=\"0 0 24 24\"\n",
              "       width=\"24px\">\n",
              "    <path d=\"M0 0h24v24H0V0z\" fill=\"none\"/>\n",
              "    <path d=\"M18.56 5.44l.94 2.06.94-2.06 2.06-.94-2.06-.94-.94-2.06-.94 2.06-2.06.94zm-11 1L8.5 8.5l.94-2.06 2.06-.94-2.06-.94L8.5 2.5l-.94 2.06-2.06.94zm10 10l.94 2.06.94-2.06 2.06-.94-2.06-.94-.94-2.06-.94 2.06-2.06.94z\"/><path d=\"M17.41 7.96l-1.37-1.37c-.4-.4-.92-.59-1.43-.59-.52 0-1.04.2-1.43.59L10.3 9.45l-7.72 7.72c-.78.78-.78 2.05 0 2.83L4 21.41c.39.39.9.59 1.41.59.51 0 1.02-.2 1.41-.59l7.78-7.78 2.81-2.81c.8-.78.8-2.07 0-2.86zM5.41 20L4 18.59l7.72-7.72 1.47 1.35L5.41 20z\"/>\n",
              "  </svg>\n",
              "      </button>\n",
              "      \n",
              "  <style>\n",
              "    .colab-df-container {\n",
              "      display:flex;\n",
              "      flex-wrap:wrap;\n",
              "      gap: 12px;\n",
              "    }\n",
              "\n",
              "    .colab-df-convert {\n",
              "      background-color: #E8F0FE;\n",
              "      border: none;\n",
              "      border-radius: 50%;\n",
              "      cursor: pointer;\n",
              "      display: none;\n",
              "      fill: #1967D2;\n",
              "      height: 32px;\n",
              "      padding: 0 0 0 0;\n",
              "      width: 32px;\n",
              "    }\n",
              "\n",
              "    .colab-df-convert:hover {\n",
              "      background-color: #E2EBFA;\n",
              "      box-shadow: 0px 1px 2px rgba(60, 64, 67, 0.3), 0px 1px 3px 1px rgba(60, 64, 67, 0.15);\n",
              "      fill: #174EA6;\n",
              "    }\n",
              "\n",
              "    [theme=dark] .colab-df-convert {\n",
              "      background-color: #3B4455;\n",
              "      fill: #D2E3FC;\n",
              "    }\n",
              "\n",
              "    [theme=dark] .colab-df-convert:hover {\n",
              "      background-color: #434B5C;\n",
              "      box-shadow: 0px 1px 3px 1px rgba(0, 0, 0, 0.15);\n",
              "      filter: drop-shadow(0px 1px 2px rgba(0, 0, 0, 0.3));\n",
              "      fill: #FFFFFF;\n",
              "    }\n",
              "  </style>\n",
              "\n",
              "      <script>\n",
              "        const buttonEl =\n",
              "          document.querySelector('#df-9831835e-b3fe-4992-8102-7f2667bc7fcd button.colab-df-convert');\n",
              "        buttonEl.style.display =\n",
              "          google.colab.kernel.accessAllowed ? 'block' : 'none';\n",
              "\n",
              "        async function convertToInteractive(key) {\n",
              "          const element = document.querySelector('#df-9831835e-b3fe-4992-8102-7f2667bc7fcd');\n",
              "          const dataTable =\n",
              "            await google.colab.kernel.invokeFunction('convertToInteractive',\n",
              "                                                     [key], {});\n",
              "          if (!dataTable) return;\n",
              "\n",
              "          const docLinkHtml = 'Like what you see? Visit the ' +\n",
              "            '<a target=\"_blank\" href=https://colab.research.google.com/notebooks/data_table.ipynb>data table notebook</a>'\n",
              "            + ' to learn more about interactive tables.';\n",
              "          element.innerHTML = '';\n",
              "          dataTable['output_type'] = 'display_data';\n",
              "          await google.colab.output.renderOutput(dataTable, element);\n",
              "          const docLink = document.createElement('div');\n",
              "          docLink.innerHTML = docLinkHtml;\n",
              "          element.appendChild(docLink);\n",
              "        }\n",
              "      </script>\n",
              "    </div>\n",
              "  </div>\n",
              "  "
            ]
          },
          "metadata": {},
          "execution_count": 112
        }
      ]
    },
    {
      "cell_type": "code",
      "source": [
        "news_data.dtypes"
      ],
      "metadata": {
        "colab": {
          "base_uri": "https://localhost:8080/"
        },
        "id": "RiKrnGJzdHWQ",
        "outputId": "709b7dbd-1349-4eb5-db48-ec3539c6fb86"
      },
      "execution_count": 113,
      "outputs": [
        {
          "output_type": "execute_result",
          "data": {
            "text/plain": [
              "label     int64\n",
              "text     object\n",
              "dtype: object"
            ]
          },
          "metadata": {},
          "execution_count": 113
        }
      ]
    },
    {
      "cell_type": "code",
      "source": [
        "# categorize labels\n",
        "news_data['label'] = pd.Categorical(news_data['label'])\n",
        "news_data['label'] = news_data.label.cat.codes\n",
        "\n",
        "news_data.head(10)"
      ],
      "metadata": {
        "colab": {
          "base_uri": "https://localhost:8080/",
          "height": 363
        },
        "id": "4IGcBOxPdI0Y",
        "outputId": "cc63eb4d-2b66-45b8-fd41-adbed0759042"
      },
      "execution_count": 114,
      "outputs": [
        {
          "output_type": "execute_result",
          "data": {
            "text/plain": [
              "   label                                               text\n",
              "0      1  bomba lira fraudar o votação brasília explodir...\n",
              "1      0  o whatsapp liberar quinta-feira atualização ap...\n",
              "2      0  debater propor o cidade o campanha prefeitura ...\n",
              "3      0  o alesp assembleia legislativo paulo aprovar h...\n",
              "4      1  “ fauci aprovar o hidroxicloroquina haver ano ...\n",
              "5      0  dia noite acessório passar o código vestimenta...\n",
              "6      1  “ pra variar o esquerdo mentir foto e vídeo an...\n",
              "7      0  o provável origem coronavírus mercar comercial...\n",
              "8      0  o agência nacional vigilância sanitário anvisa...\n",
              "9      1  sucessivo falhar umar d atribuir diretamente o..."
            ],
            "text/html": [
              "\n",
              "  <div id=\"df-1f17b0ca-4cb0-43bf-be95-3202314f2652\">\n",
              "    <div class=\"colab-df-container\">\n",
              "      <div>\n",
              "<style scoped>\n",
              "    .dataframe tbody tr th:only-of-type {\n",
              "        vertical-align: middle;\n",
              "    }\n",
              "\n",
              "    .dataframe tbody tr th {\n",
              "        vertical-align: top;\n",
              "    }\n",
              "\n",
              "    .dataframe thead th {\n",
              "        text-align: right;\n",
              "    }\n",
              "</style>\n",
              "<table border=\"1\" class=\"dataframe\">\n",
              "  <thead>\n",
              "    <tr style=\"text-align: right;\">\n",
              "      <th></th>\n",
              "      <th>label</th>\n",
              "      <th>text</th>\n",
              "    </tr>\n",
              "  </thead>\n",
              "  <tbody>\n",
              "    <tr>\n",
              "      <th>0</th>\n",
              "      <td>1</td>\n",
              "      <td>bomba lira fraudar o votação brasília explodir...</td>\n",
              "    </tr>\n",
              "    <tr>\n",
              "      <th>1</th>\n",
              "      <td>0</td>\n",
              "      <td>o whatsapp liberar quinta-feira atualização ap...</td>\n",
              "    </tr>\n",
              "    <tr>\n",
              "      <th>2</th>\n",
              "      <td>0</td>\n",
              "      <td>debater propor o cidade o campanha prefeitura ...</td>\n",
              "    </tr>\n",
              "    <tr>\n",
              "      <th>3</th>\n",
              "      <td>0</td>\n",
              "      <td>o alesp assembleia legislativo paulo aprovar h...</td>\n",
              "    </tr>\n",
              "    <tr>\n",
              "      <th>4</th>\n",
              "      <td>1</td>\n",
              "      <td>“ fauci aprovar o hidroxicloroquina haver ano ...</td>\n",
              "    </tr>\n",
              "    <tr>\n",
              "      <th>5</th>\n",
              "      <td>0</td>\n",
              "      <td>dia noite acessório passar o código vestimenta...</td>\n",
              "    </tr>\n",
              "    <tr>\n",
              "      <th>6</th>\n",
              "      <td>1</td>\n",
              "      <td>“ pra variar o esquerdo mentir foto e vídeo an...</td>\n",
              "    </tr>\n",
              "    <tr>\n",
              "      <th>7</th>\n",
              "      <td>0</td>\n",
              "      <td>o provável origem coronavírus mercar comercial...</td>\n",
              "    </tr>\n",
              "    <tr>\n",
              "      <th>8</th>\n",
              "      <td>0</td>\n",
              "      <td>o agência nacional vigilância sanitário anvisa...</td>\n",
              "    </tr>\n",
              "    <tr>\n",
              "      <th>9</th>\n",
              "      <td>1</td>\n",
              "      <td>sucessivo falhar umar d atribuir diretamente o...</td>\n",
              "    </tr>\n",
              "  </tbody>\n",
              "</table>\n",
              "</div>\n",
              "      <button class=\"colab-df-convert\" onclick=\"convertToInteractive('df-1f17b0ca-4cb0-43bf-be95-3202314f2652')\"\n",
              "              title=\"Convert this dataframe to an interactive table.\"\n",
              "              style=\"display:none;\">\n",
              "        \n",
              "  <svg xmlns=\"http://www.w3.org/2000/svg\" height=\"24px\"viewBox=\"0 0 24 24\"\n",
              "       width=\"24px\">\n",
              "    <path d=\"M0 0h24v24H0V0z\" fill=\"none\"/>\n",
              "    <path d=\"M18.56 5.44l.94 2.06.94-2.06 2.06-.94-2.06-.94-.94-2.06-.94 2.06-2.06.94zm-11 1L8.5 8.5l.94-2.06 2.06-.94-2.06-.94L8.5 2.5l-.94 2.06-2.06.94zm10 10l.94 2.06.94-2.06 2.06-.94-2.06-.94-.94-2.06-.94 2.06-2.06.94z\"/><path d=\"M17.41 7.96l-1.37-1.37c-.4-.4-.92-.59-1.43-.59-.52 0-1.04.2-1.43.59L10.3 9.45l-7.72 7.72c-.78.78-.78 2.05 0 2.83L4 21.41c.39.39.9.59 1.41.59.51 0 1.02-.2 1.41-.59l7.78-7.78 2.81-2.81c.8-.78.8-2.07 0-2.86zM5.41 20L4 18.59l7.72-7.72 1.47 1.35L5.41 20z\"/>\n",
              "  </svg>\n",
              "      </button>\n",
              "      \n",
              "  <style>\n",
              "    .colab-df-container {\n",
              "      display:flex;\n",
              "      flex-wrap:wrap;\n",
              "      gap: 12px;\n",
              "    }\n",
              "\n",
              "    .colab-df-convert {\n",
              "      background-color: #E8F0FE;\n",
              "      border: none;\n",
              "      border-radius: 50%;\n",
              "      cursor: pointer;\n",
              "      display: none;\n",
              "      fill: #1967D2;\n",
              "      height: 32px;\n",
              "      padding: 0 0 0 0;\n",
              "      width: 32px;\n",
              "    }\n",
              "\n",
              "    .colab-df-convert:hover {\n",
              "      background-color: #E2EBFA;\n",
              "      box-shadow: 0px 1px 2px rgba(60, 64, 67, 0.3), 0px 1px 3px 1px rgba(60, 64, 67, 0.15);\n",
              "      fill: #174EA6;\n",
              "    }\n",
              "\n",
              "    [theme=dark] .colab-df-convert {\n",
              "      background-color: #3B4455;\n",
              "      fill: #D2E3FC;\n",
              "    }\n",
              "\n",
              "    [theme=dark] .colab-df-convert:hover {\n",
              "      background-color: #434B5C;\n",
              "      box-shadow: 0px 1px 3px 1px rgba(0, 0, 0, 0.15);\n",
              "      filter: drop-shadow(0px 1px 2px rgba(0, 0, 0, 0.3));\n",
              "      fill: #FFFFFF;\n",
              "    }\n",
              "  </style>\n",
              "\n",
              "      <script>\n",
              "        const buttonEl =\n",
              "          document.querySelector('#df-1f17b0ca-4cb0-43bf-be95-3202314f2652 button.colab-df-convert');\n",
              "        buttonEl.style.display =\n",
              "          google.colab.kernel.accessAllowed ? 'block' : 'none';\n",
              "\n",
              "        async function convertToInteractive(key) {\n",
              "          const element = document.querySelector('#df-1f17b0ca-4cb0-43bf-be95-3202314f2652');\n",
              "          const dataTable =\n",
              "            await google.colab.kernel.invokeFunction('convertToInteractive',\n",
              "                                                     [key], {});\n",
              "          if (!dataTable) return;\n",
              "\n",
              "          const docLinkHtml = 'Like what you see? Visit the ' +\n",
              "            '<a target=\"_blank\" href=https://colab.research.google.com/notebooks/data_table.ipynb>data table notebook</a>'\n",
              "            + ' to learn more about interactive tables.';\n",
              "          element.innerHTML = '';\n",
              "          dataTable['output_type'] = 'display_data';\n",
              "          await google.colab.output.renderOutput(dataTable, element);\n",
              "          const docLink = document.createElement('div');\n",
              "          docLink.innerHTML = docLinkHtml;\n",
              "          element.appendChild(docLink);\n",
              "        }\n",
              "      </script>\n",
              "    </div>\n",
              "  </div>\n",
              "  "
            ]
          },
          "metadata": {},
          "execution_count": 114
        }
      ]
    },
    {
      "cell_type": "code",
      "source": [
        "news_data.shape\n"
      ],
      "metadata": {
        "colab": {
          "base_uri": "https://localhost:8080/"
        },
        "id": "ylgodta0iJbz",
        "outputId": "896f3a2e-3b74-4342-fb66-623edf5f1b09"
      },
      "execution_count": 115,
      "outputs": [
        {
          "output_type": "execute_result",
          "data": {
            "text/plain": [
              "(11902, 2)"
            ]
          },
          "metadata": {},
          "execution_count": 115
        }
      ]
    },
    {
      "cell_type": "code",
      "source": [
        "news_data.dtypes\n"
      ],
      "metadata": {
        "colab": {
          "base_uri": "https://localhost:8080/"
        },
        "id": "66aJP9Hnqs64",
        "outputId": "e1db3f7a-ceb3-4e11-ca44-6c48bd2ea321"
      },
      "execution_count": 116,
      "outputs": [
        {
          "output_type": "execute_result",
          "data": {
            "text/plain": [
              "label      int8\n",
              "text     object\n",
              "dtype: object"
            ]
          },
          "metadata": {},
          "execution_count": 116
        }
      ]
    },
    {
      "cell_type": "code",
      "source": [
        "# drop target\n",
        "# target = news_data.pop('label')\n"
      ],
      "metadata": {
        "id": "vjr76j1EdQOy"
      },
      "execution_count": 29,
      "outputs": []
    },
    {
      "cell_type": "code",
      "source": [
        "\n",
        "from sklearn.model_selection import train_test_split\n",
        "\n",
        "#split train test val\n",
        "ds_train, ds_test = train_test_split(news_data)\n",
        "\n",
        "# split validation set\n",
        "ds_test, ds_val = train_test_split(ds_test)\n",
        "\n",
        "print(ds_train.shape, ds_test.shape, ds_val.shape)"
      ],
      "metadata": {
        "colab": {
          "base_uri": "https://localhost:8080/"
        },
        "id": "hun4oNE5iNRy",
        "outputId": "121f7d66-62f9-4366-92e1-8c397d917c62"
      },
      "execution_count": 117,
      "outputs": [
        {
          "output_type": "stream",
          "name": "stdout",
          "text": [
            "(8926, 2) (2232, 2) (744, 2)\n"
          ]
        }
      ]
    },
    {
      "cell_type": "code",
      "source": [
        "ds_train"
      ],
      "metadata": {
        "colab": {
          "base_uri": "https://localhost:8080/",
          "height": 424
        },
        "id": "T-x83cmPjw3M",
        "outputId": "67063d49-1fb2-4e50-856e-4844c2a05146"
      },
      "execution_count": 118,
      "outputs": [
        {
          "output_type": "execute_result",
          "data": {
            "text/plain": [
              "       label                                               text\n",
              "9695       1  xuxa ganhar r$ 8.9 milhão hoje o mamata acabar...\n",
              "11782      0  o amazona liderar o lista desempenhar combater...\n",
              "3546       1  o jornalista renata vasconcellos parceiro will...\n",
              "182        1  “ bolsonaro gastar milhão leite condensar corr...\n",
              "7456       1  o governar austrália recomendar população toma...\n",
              "...      ...                                                ...\n",
              "4072       0  cientista conicet o agência ciência e técnico ...\n",
              "8203       0  o comissão temporário ct covid-19 senado feder...\n",
              "9101       1  blitz o amanhã o cidade parir apreender moto e...\n",
              "10031      0  o consórcio veículo imprensar divulgar levanta...\n",
              "3148       1  o notícia surgir rede social semana setembro a...\n",
              "\n",
              "[8926 rows x 2 columns]"
            ],
            "text/html": [
              "\n",
              "  <div id=\"df-dee1fb90-180a-438c-90e9-4352cb26f574\">\n",
              "    <div class=\"colab-df-container\">\n",
              "      <div>\n",
              "<style scoped>\n",
              "    .dataframe tbody tr th:only-of-type {\n",
              "        vertical-align: middle;\n",
              "    }\n",
              "\n",
              "    .dataframe tbody tr th {\n",
              "        vertical-align: top;\n",
              "    }\n",
              "\n",
              "    .dataframe thead th {\n",
              "        text-align: right;\n",
              "    }\n",
              "</style>\n",
              "<table border=\"1\" class=\"dataframe\">\n",
              "  <thead>\n",
              "    <tr style=\"text-align: right;\">\n",
              "      <th></th>\n",
              "      <th>label</th>\n",
              "      <th>text</th>\n",
              "    </tr>\n",
              "  </thead>\n",
              "  <tbody>\n",
              "    <tr>\n",
              "      <th>9695</th>\n",
              "      <td>1</td>\n",
              "      <td>xuxa ganhar r$ 8.9 milhão hoje o mamata acabar...</td>\n",
              "    </tr>\n",
              "    <tr>\n",
              "      <th>11782</th>\n",
              "      <td>0</td>\n",
              "      <td>o amazona liderar o lista desempenhar combater...</td>\n",
              "    </tr>\n",
              "    <tr>\n",
              "      <th>3546</th>\n",
              "      <td>1</td>\n",
              "      <td>o jornalista renata vasconcellos parceiro will...</td>\n",
              "    </tr>\n",
              "    <tr>\n",
              "      <th>182</th>\n",
              "      <td>1</td>\n",
              "      <td>“ bolsonaro gastar milhão leite condensar corr...</td>\n",
              "    </tr>\n",
              "    <tr>\n",
              "      <th>7456</th>\n",
              "      <td>1</td>\n",
              "      <td>o governar austrália recomendar população toma...</td>\n",
              "    </tr>\n",
              "    <tr>\n",
              "      <th>...</th>\n",
              "      <td>...</td>\n",
              "      <td>...</td>\n",
              "    </tr>\n",
              "    <tr>\n",
              "      <th>4072</th>\n",
              "      <td>0</td>\n",
              "      <td>cientista conicet o agência ciência e técnico ...</td>\n",
              "    </tr>\n",
              "    <tr>\n",
              "      <th>8203</th>\n",
              "      <td>0</td>\n",
              "      <td>o comissão temporário ct covid-19 senado feder...</td>\n",
              "    </tr>\n",
              "    <tr>\n",
              "      <th>9101</th>\n",
              "      <td>1</td>\n",
              "      <td>blitz o amanhã o cidade parir apreender moto e...</td>\n",
              "    </tr>\n",
              "    <tr>\n",
              "      <th>10031</th>\n",
              "      <td>0</td>\n",
              "      <td>o consórcio veículo imprensar divulgar levanta...</td>\n",
              "    </tr>\n",
              "    <tr>\n",
              "      <th>3148</th>\n",
              "      <td>1</td>\n",
              "      <td>o notícia surgir rede social semana setembro a...</td>\n",
              "    </tr>\n",
              "  </tbody>\n",
              "</table>\n",
              "<p>8926 rows × 2 columns</p>\n",
              "</div>\n",
              "      <button class=\"colab-df-convert\" onclick=\"convertToInteractive('df-dee1fb90-180a-438c-90e9-4352cb26f574')\"\n",
              "              title=\"Convert this dataframe to an interactive table.\"\n",
              "              style=\"display:none;\">\n",
              "        \n",
              "  <svg xmlns=\"http://www.w3.org/2000/svg\" height=\"24px\"viewBox=\"0 0 24 24\"\n",
              "       width=\"24px\">\n",
              "    <path d=\"M0 0h24v24H0V0z\" fill=\"none\"/>\n",
              "    <path d=\"M18.56 5.44l.94 2.06.94-2.06 2.06-.94-2.06-.94-.94-2.06-.94 2.06-2.06.94zm-11 1L8.5 8.5l.94-2.06 2.06-.94-2.06-.94L8.5 2.5l-.94 2.06-2.06.94zm10 10l.94 2.06.94-2.06 2.06-.94-2.06-.94-.94-2.06-.94 2.06-2.06.94z\"/><path d=\"M17.41 7.96l-1.37-1.37c-.4-.4-.92-.59-1.43-.59-.52 0-1.04.2-1.43.59L10.3 9.45l-7.72 7.72c-.78.78-.78 2.05 0 2.83L4 21.41c.39.39.9.59 1.41.59.51 0 1.02-.2 1.41-.59l7.78-7.78 2.81-2.81c.8-.78.8-2.07 0-2.86zM5.41 20L4 18.59l7.72-7.72 1.47 1.35L5.41 20z\"/>\n",
              "  </svg>\n",
              "      </button>\n",
              "      \n",
              "  <style>\n",
              "    .colab-df-container {\n",
              "      display:flex;\n",
              "      flex-wrap:wrap;\n",
              "      gap: 12px;\n",
              "    }\n",
              "\n",
              "    .colab-df-convert {\n",
              "      background-color: #E8F0FE;\n",
              "      border: none;\n",
              "      border-radius: 50%;\n",
              "      cursor: pointer;\n",
              "      display: none;\n",
              "      fill: #1967D2;\n",
              "      height: 32px;\n",
              "      padding: 0 0 0 0;\n",
              "      width: 32px;\n",
              "    }\n",
              "\n",
              "    .colab-df-convert:hover {\n",
              "      background-color: #E2EBFA;\n",
              "      box-shadow: 0px 1px 2px rgba(60, 64, 67, 0.3), 0px 1px 3px 1px rgba(60, 64, 67, 0.15);\n",
              "      fill: #174EA6;\n",
              "    }\n",
              "\n",
              "    [theme=dark] .colab-df-convert {\n",
              "      background-color: #3B4455;\n",
              "      fill: #D2E3FC;\n",
              "    }\n",
              "\n",
              "    [theme=dark] .colab-df-convert:hover {\n",
              "      background-color: #434B5C;\n",
              "      box-shadow: 0px 1px 3px 1px rgba(0, 0, 0, 0.15);\n",
              "      filter: drop-shadow(0px 1px 2px rgba(0, 0, 0, 0.3));\n",
              "      fill: #FFFFFF;\n",
              "    }\n",
              "  </style>\n",
              "\n",
              "      <script>\n",
              "        const buttonEl =\n",
              "          document.querySelector('#df-dee1fb90-180a-438c-90e9-4352cb26f574 button.colab-df-convert');\n",
              "        buttonEl.style.display =\n",
              "          google.colab.kernel.accessAllowed ? 'block' : 'none';\n",
              "\n",
              "        async function convertToInteractive(key) {\n",
              "          const element = document.querySelector('#df-dee1fb90-180a-438c-90e9-4352cb26f574');\n",
              "          const dataTable =\n",
              "            await google.colab.kernel.invokeFunction('convertToInteractive',\n",
              "                                                     [key], {});\n",
              "          if (!dataTable) return;\n",
              "\n",
              "          const docLinkHtml = 'Like what you see? Visit the ' +\n",
              "            '<a target=\"_blank\" href=https://colab.research.google.com/notebooks/data_table.ipynb>data table notebook</a>'\n",
              "            + ' to learn more about interactive tables.';\n",
              "          element.innerHTML = '';\n",
              "          dataTable['output_type'] = 'display_data';\n",
              "          await google.colab.output.renderOutput(dataTable, element);\n",
              "          const docLink = document.createElement('div');\n",
              "          docLink.innerHTML = docLinkHtml;\n",
              "          element.appendChild(docLink);\n",
              "        }\n",
              "      </script>\n",
              "    </div>\n",
              "  </div>\n",
              "  "
            ]
          },
          "metadata": {},
          "execution_count": 118
        }
      ]
    },
    {
      "cell_type": "code",
      "source": [
        "ds_train.dtypes\n"
      ],
      "metadata": {
        "colab": {
          "base_uri": "https://localhost:8080/"
        },
        "id": "YOXB2dcKqx1X",
        "outputId": "d52535ee-1862-4e11-dbf2-8a71d8bf6da9"
      },
      "execution_count": 119,
      "outputs": [
        {
          "output_type": "execute_result",
          "data": {
            "text/plain": [
              "label      int8\n",
              "text     object\n",
              "dtype: object"
            ]
          },
          "metadata": {},
          "execution_count": 119
        }
      ]
    },
    {
      "cell_type": "code",
      "source": [
        "# make a tensor dataset and split into batches\n",
        "\n",
        "batch_size = 32\n",
        "\n",
        "raw_train_ds = tf.data.Dataset.from_tensor_slices((ds_train.text.values, ds_train.label.values))\n",
        "raw_test_ds = tf.data.Dataset.from_tensor_slices((ds_test.text.values, ds_test.label.values))\n",
        "raw_val_ds = tf.data.Dataset.from_tensor_slices((ds_val.text.values, ds_val.label.values))\n",
        "\n",
        "raw_train_ds = raw_train_ds.batch(batch_size)\n",
        "raw_test_ds = raw_test_ds.batch(batch_size)\n",
        "raw_val_ds = raw_val_ds.batch(batch_size)"
      ],
      "metadata": {
        "id": "wdK8EI_ddnFa"
      },
      "execution_count": 120,
      "outputs": []
    },
    {
      "cell_type": "code",
      "source": [
        "for text_batch, label_batch in raw_train_ds.take(1):\n",
        "  for i in range(10):\n",
        "    print(\"Setence: \", text_batch.numpy()[i])\n",
        "    print(\"Label:\", label_batch.numpy()[i])\n"
      ],
      "metadata": {
        "colab": {
          "base_uri": "https://localhost:8080/"
        },
        "id": "l10ZBZ6Kdsuu",
        "outputId": "24d63756-bd70-4e86-8281-46d6956115e0"
      },
      "execution_count": 121,
      "outputs": [
        {
          "output_type": "stream",
          "name": "stdout",
          "text": [
            "Setence:  b'xuxa ganhar r$ 8.9 milh\\xc3\\xa3o hoje o mamata acabar t\\xc3\\xa1 explicar o \\xc3\\xb3dio bolsonaro o xuxa errar pedir o impeachment bolsonaro d o o contar hj ganhar 8,9 milh\\xc3\\xa3o lei rouanet q ganhar'\n",
            "Label: 1\n",
            "Setence:  b'o amazona liderar o lista desempenhar combater o o coronav\\xc3\\xadrus unidade federa\\xc3\\xa7\\xc3\\xa3o mostrar o ranking covid-19 elaborar centrar lideran\\xc3\\xa7a p\\xc3\\xbablico clp e obter exclusividade jornal o s. paulo o amazona aparecer topar lista hoje n o in\\xc3\\xadcio acompanhamento clp 1\\xc2\\xba abril haver semana notar 71,72 o amazona aparecer distante e colocar o parar e o amap\\xc3\\xa1 notar 46,66 e 43,23 n ranking o o avalia\\xc3\\xa7\\xc3\\xa3o combater doen\\xc3\\xa7a o amazona 1\\xc2\\xaa dever evolu\\xc3\\xa7\\xc3\\xa3o casar e morte e transpar\\xc3\\xaancia e isolamento explicar o head competitividade clp jos\\xc3\\xa9 henrique nascimento o levantamento o amazona taxar mortalidade coronav\\xc3\\xadrus 7,02 acima m\\xc3\\xa9dio nacional 4,58 e o propor\\xc3\\xa7\\xc3\\xa3o infectar milh\\xc3\\xa3o habitante pmh tornar 4.630 o ocupa\\xc3\\xa7\\xc3\\xa3o leito uti conformar o secretariar saudar acordar atualizados minist\\xc3\\xa9rio saudar o amazona o casar covid-19 pa\\xc3\\xads 25.367 e o v\\xc3\\xadtima fatal 1.620 o nortista liderar folgar mostrar taxar 34,09 o mortalidade s\\xc3\\xadndrome respirat\\xc3\\xb3rio agudo gravar srag sintoma s\\xc3\\xa9rio covid-19 e indica\\xc3\\xa7\\xc3\\xa3o subnotifica\\xc3\\xa7\\xc3\\xa3o doen\\xc3\\xa7a casar milh\\xc3\\xa3o habitante'\n",
            "Label: 0\n",
            "Setence:  b'o jornalista renata vasconcellos parceiro william bonner jornal nacional demitir globo \\xe2\\x80\\xa6 pra precisar dinheiro governar federal hein dono renata o globo demitir empresar faknews o jornalista sensacionalista puxar sacar globo lixar desempregar'\n",
            "Label: 1\n",
            "Setence:  b'\\xe2\\x80\\x9c bolsonaro gastar milh\\xc3\\xa3o leite condensar corresponder o 2.500.000 lato contar o unidade bolsonaro comer 6.849.32 lato dia \\xe2\\x80\\x9d o texto replicar facebook e instagram o dia janeiro o conte\\xc3\\xbado refer\\xc3\\xaancia o levantamento publicar jornal metr\\xc3\\xb3pole revelar gasto executivo registrar painel comprar atualizado minist\\xc3\\xa9rio economia gasto destacar r$ 2,2 milh\\xc3\\xa3o gomar mascar r$ milh\\xc3\\xa3o uva passar e r$ milh\\xc3\\xa3o leite condensar o produto ficar associar o bolsonaro aparecer reportagem comer p\\xc3\\xa3o leite condensar durante o campanha presidencial'\n",
            "Label: 1\n",
            "Setence:  b'o governar austr\\xc3\\xa1lia recomendar popula\\xc3\\xa7\\xc3\\xa3o tomar o ivermectina medir preventivo o covid-19 e d o caso pa\\xc3\\xads cair o afirma\\xc3\\xa7\\xc3\\xa3o feito v\\xc3\\xaddeo viral m\\xc3\\xa9dico cec\\xc3\\xadlia pimenta o \\xc3\\xbanico tratamento o doen\\xc3\\xa7a aprovar austr\\xc3\\xa1lia o remdesivir prescrever paciente grave d o pa\\xc3\\xads adotou medir distanciamento social higieniza\\xc3\\xa7\\xc3\\xa3o m\\xc3\\xa3o restri\\xc3\\xa7\\xc3\\xa3o viagem e lockdown o universidade monash liderar o pesquisar australiano o ivermectina tratar o coronav\\xc3\\xadrus afirmar o o sequer o testar humano atualmente o austr\\xc3\\xa1lia enfrentar onda infec\\xc3\\xa7\\xc3\\xb5es.no v\\xc3\\xaddeo pimenta afirmar erroneamente o efic\\xc3\\xa1cia medicamentar reconhecido ag\\xc3\\xaancia sanit\\xc3\\xa1rio unir o food and drug administration fda o \\xc3\\xb3rg\\xc3\\xa3o orientar paciente covid-19 o tomar ivermectina o m\\xc3\\xa9dico o ivermectina respons\\xc3\\xa1vel controlar o pandemia eti\\xc3\\xb3pia o haver desmentir afirmar o rem\\xc3\\xa9dio considerar vacinar o coronav\\xc3\\xadrus o ag\\xc3\\xaancia nacional vigil\\xc3\\xa2ncia sanit\\xc3\\xa1rio anvisa reconhecer o efic\\xc3\\xa1cia drogar tratamento doen\\xc3\\xa7a'\n",
            "Label: 1\n",
            "Setence:  b'o dia novembro o blogueiro e fundador site ter\\xc3\\xa7ar livrar allan santo prestar depoimento comiss\\xc3\\xa3o misto parlamentar inqu\\xc3\\xa9rito e dentre afirma\\xc3\\xa7\\xc3\\xa3o afirmar umar reportagem pelar revistar mostrar umar coopera\\xc3\\xa7\\xc3\\xa3o nuclear entrar cubar e brasil'\n",
            "Label: 1\n",
            "Setence:  b'compartilhar rede social o foto restaurante popular redar prato filar quilom\\xc3\\xa9trico portar o legendar \\xe2\\x80\\x9c doria fechar restaurante evitar aglomera\\xc3\\xa7\\xc3\\xa3o e ampliar o atendimento prato restaurante estatal resultar \\xe2\\x80\\x9d o texto o entender o imagem atual o unidade prato ficar bernardo campar o governar o foto dia janeiro o datar inaugura\\xc3\\xa7\\xc3\\xa3o unidade ater o popula\\xc3\\xa7\\xc3\\xa3o carente oferecer almo\\xc3\\xa7ar e jantar o r$ e caf\\xc3\\xa9 manh\\xc3\\xa3 o r$ 0,50 n o restaurante seguir aberto o filar o visto foto cliente grudar outro e detalhar importante refei\\xc3\\xa7\\xc3\\xa3o servir embalagem descart\\xc3\\xa1vel alimentar unidade d o governar unidade prato marca\\xc3\\xa7\\xc3\\xa3o solo usu\\xc3\\xa1rio respeitar o dist\\xc3\\xa2ncia m\\xc3\\xadnimo 1,5 metro si evita-se o cont\\xc3\\xa1gio coronav\\xc3\\xadrus casar haver pessoa infectar \\xe2\\x80\\x9c funcion\\xc3\\xa1rio recomendar diariamente o utiliza\\xc3\\xa7\\xc3\\xa3o \\xc3\\xa1lcool gel solu\\xc3\\xa7\\xc3\\xa3o alco\\xc3\\xb3lico antibacteriana dispon\\xc3\\xadvel \\xe2\\x80\\x9d o governar noto oficial enviar cbn'\n",
            "Label: 1\n",
            "Setence:  b'o ag\\xc3\\xaancia nacional transportar terrestre antt flexibilizar regrar o transportar nacional e internacional oxig\\xc3\\xaanio hospitalar destinar o o amazona o sofrer o insumo aumentar casar covid-19 mudan\\xc3\\xa7a publicar edi\\xc3\\xa7\\xc3\\xa3o extra di\\xc3\\xa1rio oficial uni\\xc3\\xa3o d s\\xc3\\xa1bado o o justificar o resolu\\xc3\\xa7\\xc3\\xa3o o ag\\xc3\\xaancia citar o \\xe2\\x80\\x9c situa\\xc3\\xa7\\xc3\\xa3o emerg\\xc3\\xaancia saudar p\\xc3\\xbablico import\\xc3\\xa2ncia internacional decorrente coronav\\xc3\\xadrus \\xe2\\x80\\x9d amazona o governar venezuelano oferecer ajudar o o amazona o chanceler venezuela jorge arreaza informar redar social n s\\xc3\\xa1bado sair pa\\xc3\\xads caminh\\xc3\\xa3o oxig\\xc3\\xaanio destinar o manaus o resolu\\xc3\\xa7\\xc3\\xa3o antt liberar per\\xc3\\xadodo dia o emiss\\xc3\\xa3o autoriza\\xc3\\xa7\\xc3\\xa3o viagem car\\xc3\\xa1ter ocasional o transportar internacional oxig\\xc3\\xaanio bastir o transportador apresentar raz\\xc3\\xa3o social e cnpj origem e destinar carga informa\\xc3\\xa7\\xc3\\xa3o importador e exportador e ve\\xc3\\xadculo o autorizar'\n",
            "Label: 0\n",
            "Setence:  b'\\xe2\\x80\\x9c luladr\\xc3\\xa3o flagrar bar beber pleno pandemia e pregar ficar casar cidad\\xc3\\xa3o corretivo n \\xe2\\x80\\x9d publica\\xc3\\xa7\\xc3\\xa3o compartilhar facebook e instagram grava\\xc3\\xa7\\xc3\\xa3o homem aproximar mesa pessoa e vers\\xc3\\xa3o seta sobreposto s imagem identificar d indiv\\xc3\\xadduo \\xe2\\x80\\x9c luladr\\xc3\\xa3o \\xe2\\x80\\x9d seguir o homem p\\xc3\\xa9 ouvir \\xe2\\x80\\x9c o senhor vergonha caro o senhor safar o senhor roubar e ficar tomar cervejar caro pau \\xe2\\x80\\x9d o homem falar o ex-presidente lula'\n",
            "Label: 1\n",
            "Setence:  b'o governar prorrogar antecipa\\xc3\\xa7\\xc3\\xa3o relativo o o aux\\xc3\\xadlio-doen\\xc3\\xa7a informar o minist\\xc3\\xa9rio economia inicialmente o previs\\xc3\\xa3o estender o antecipa\\xc3\\xa7\\xc3\\xa3o outubro localidade haver ag\\xc3\\xaancia atendimento per\\xc3\\xadcia m\\xc3\\xa9dico o an\\xc3\\xa1lise propor secretariar especial previd\\xc3\\xaancia e trabalhar e o inss informar o minist\\xc3\\xa9rio economia o antecipa\\xc3\\xa7\\xc3\\xa3o sal\\xc3\\xa1rio m\\xc3\\xadnimo r$ 1.045,00 medir adotada o enfrentamento pandemia covid-19 evitar aglomera\\xc3\\xa7\\xc3\\xa3o ag\\xc3\\xaancia o atendimento presencial suspenso pandemia o datar oficial retornar gradual atendimento ag\\xc3\\xaancia dia perito m\\xc3\\xa9dico pedir o o minist\\xc3\\xa9rio economia o abertura suspenso e alertar riscar o medir incentivar governamental aglomera\\xc3\\xa7\\xc3\\xa3o pessoa integrante riscar mostrar o estad\\xc3\\xa3o cartar o o secret\\xc3\\xa1rio especial previd\\xc3\\xaancia e trabalhar minist\\xc3\\xa9rio economia brunir bianco o associa\\xc3\\xa7\\xc3\\xa3o nacional perito m\\xc3\\xa9dico federar anmp alegar o inadequado o abertura dia julho prever portar governar dever manuten\\xc3\\xa7\\xc3\\xa3o grau elevar cont\\xc3\\xa1gio coronav\\xc3\\xadrus'\n",
            "Label: 0\n"
          ]
        }
      ]
    },
    {
      "cell_type": "code",
      "source": [
        "from tensorflow import keras\n",
        "from keras.layers import TextVectorization\n",
        "\n",
        "VOCAB_SIZE = 10000\n",
        "MAX_SEQUENCE_LENGTH = 250\n",
        "\n",
        "binary_vectorize_layer = TextVectorization(\n",
        "    max_tokens=VOCAB_SIZE,\n",
        "    output_mode='binary')\n",
        "\n",
        "int_vectorize_layer = TextVectorization(\n",
        "    max_tokens=VOCAB_SIZE,\n",
        "    output_mode='int',\n",
        "    output_sequence_length=MAX_SEQUENCE_LENGTH)\n"
      ],
      "metadata": {
        "id": "yhmjSv0Oex5Y"
      },
      "execution_count": 122,
      "outputs": []
    },
    {
      "cell_type": "code",
      "source": [
        "# Make a text-only dataset (without labels), then call `TextVectorization.adapt`.\n",
        "train_text = raw_train_ds.map(lambda text, labels: text)\n",
        "binary_vectorize_layer.adapt(train_text)\n",
        "int_vectorize_layer.adapt(train_text)\n"
      ],
      "metadata": {
        "id": "hJK90F15f_G9"
      },
      "execution_count": 123,
      "outputs": []
    },
    {
      "cell_type": "code",
      "source": [
        "# function to print result\n",
        "def binary_vectorize_text(text, label):\n",
        "  text = tf.expand_dims(text, -1)\n",
        "  return binary_vectorize_layer(text), label\n",
        "\n",
        "def int_vectorize_text(text, label):\n",
        "  text = tf.expand_dims(text, -1)\n",
        "  return int_vectorize_layer(text), label\n"
      ],
      "metadata": {
        "id": "Pvep7iVmgp1K"
      },
      "execution_count": 124,
      "outputs": []
    },
    {
      "cell_type": "code",
      "source": [
        "# Retrieve a batch (of 32 reviews and labels) from the dataset.\n",
        "text_batch, label_batch = next(iter(raw_train_ds))\n",
        "first_question, first_label = text_batch[0], label_batch[0]\n",
        "print(\"Question\", first_question)\n",
        "print(\"Label\", first_label)\n"
      ],
      "metadata": {
        "colab": {
          "base_uri": "https://localhost:8080/"
        },
        "id": "VbEPgovKlU3W",
        "outputId": "00540833-8686-4998-868d-9441ec5cbc9b"
      },
      "execution_count": 125,
      "outputs": [
        {
          "output_type": "stream",
          "name": "stdout",
          "text": [
            "Question tf.Tensor(b'xuxa ganhar r$ 8.9 milh\\xc3\\xa3o hoje o mamata acabar t\\xc3\\xa1 explicar o \\xc3\\xb3dio bolsonaro o xuxa errar pedir o impeachment bolsonaro d o o contar hj ganhar 8,9 milh\\xc3\\xa3o lei rouanet q ganhar', shape=(), dtype=string)\n",
            "Label tf.Tensor(1, shape=(), dtype=int8)\n"
          ]
        }
      ]
    },
    {
      "cell_type": "code",
      "source": [
        "print(\"'binary' vectorized question:\",\n",
        "      binary_vectorize_text(first_question, first_label)[0])\n"
      ],
      "metadata": {
        "colab": {
          "base_uri": "https://localhost:8080/"
        },
        "id": "_Rq8OMiglXl6",
        "outputId": "79016c04-72f5-4f6a-8f05-99c656c5a29e"
      },
      "execution_count": 126,
      "outputs": [
        {
          "output_type": "stream",
          "name": "stdout",
          "text": [
            "'binary' vectorized question: tf.Tensor([[1. 1. 0. ... 0. 0. 0.]], shape=(1, 10000), dtype=float32)\n"
          ]
        }
      ]
    },
    {
      "cell_type": "code",
      "source": [
        "print(\"'int' vectorized question:\",\n",
        "      int_vectorize_text(first_question, first_label)[0])\n"
      ],
      "metadata": {
        "colab": {
          "base_uri": "https://localhost:8080/"
        },
        "id": "w5BD68Y-ljN9",
        "outputId": "52401ac0-88f6-497f-fb13-e813525ada0b"
      },
      "execution_count": 127,
      "outputs": [
        {
          "output_type": "stream",
          "name": "stdout",
          "text": [
            "'int' vectorized question: tf.Tensor(\n",
            "[[4933  233   47    1   32   26    2 6890  155  235  199    2 1535   11\n",
            "     2 4933  512   48    2 1055   11   13    2    2   66 5056  233    1\n",
            "    32  162 3391 1596  233    0    0    0    0    0    0    0    0    0\n",
            "     0    0    0    0    0    0    0    0    0    0    0    0    0    0\n",
            "     0    0    0    0    0    0    0    0    0    0    0    0    0    0\n",
            "     0    0    0    0    0    0    0    0    0    0    0    0    0    0\n",
            "     0    0    0    0    0    0    0    0    0    0    0    0    0    0\n",
            "     0    0    0    0    0    0    0    0    0    0    0    0    0    0\n",
            "     0    0    0    0    0    0    0    0    0    0    0    0    0    0\n",
            "     0    0    0    0    0    0    0    0    0    0    0    0    0    0\n",
            "     0    0    0    0    0    0    0    0    0    0    0    0    0    0\n",
            "     0    0    0    0    0    0    0    0    0    0    0    0    0    0\n",
            "     0    0    0    0    0    0    0    0    0    0    0    0    0    0\n",
            "     0    0    0    0    0    0    0    0    0    0    0    0    0    0\n",
            "     0    0    0    0    0    0    0    0    0    0    0    0    0    0\n",
            "     0    0    0    0    0    0    0    0    0    0    0    0    0    0\n",
            "     0    0    0    0    0    0    0    0    0    0    0    0    0    0\n",
            "     0    0    0    0    0    0    0    0    0    0    0    0]], shape=(1, 250), dtype=int64)\n"
          ]
        }
      ]
    },
    {
      "cell_type": "code",
      "source": [
        "print(\"1289 ---> \", int_vectorize_layer.get_vocabulary()[1289])\n",
        "print(\"313 ---> \", int_vectorize_layer.get_vocabulary()[313])\n",
        "print(\"Vocabulary size: {}\".format(len(int_vectorize_layer.get_vocabulary())))\n"
      ],
      "metadata": {
        "colab": {
          "base_uri": "https://localhost:8080/"
        },
        "id": "uMm9DO_nlmtc",
        "outputId": "6e080986-33e0-4326-a543-2b3780f16119"
      },
      "execution_count": 129,
      "outputs": [
        {
          "output_type": "stream",
          "name": "stdout",
          "text": [
            "1289 --->  vagar\n",
            "313 --->  espalhar\n",
            "Vocabulary size: 10000\n"
          ]
        }
      ]
    },
    {
      "cell_type": "code",
      "source": [
        "# encoding all datasets\n",
        "\n",
        "binary_train_ds = raw_train_ds.map(binary_vectorize_text)\n",
        "binary_val_ds = raw_val_ds.map(binary_vectorize_text)\n",
        "binary_test_ds = raw_test_ds.map(binary_vectorize_text)\n",
        "\n",
        "int_train_ds = raw_train_ds.map(int_vectorize_text)\n",
        "int_val_ds = raw_val_ds.map(int_vectorize_text)\n",
        "int_test_ds = raw_test_ds.map(int_vectorize_text)\n"
      ],
      "metadata": {
        "id": "xRub2dyAlsHb"
      },
      "execution_count": 152,
      "outputs": []
    },
    {
      "cell_type": "code",
      "source": [
        "AUTOTUNE = tf.data.AUTOTUNE\n",
        "\n",
        "def configure_dataset(dataset):\n",
        "  return dataset.cache().prefetch(buffer_size=AUTOTUNE)\n",
        "\n",
        "binary_train_ds = configure_dataset(binary_train_ds)\n",
        "binary_val_ds = configure_dataset(binary_val_ds)\n",
        "binary_test_ds = configure_dataset(binary_test_ds)\n",
        "\n",
        "int_train_ds = configure_dataset(int_train_ds)\n",
        "int_val_ds = configure_dataset(int_val_ds)\n",
        "int_test_ds = configure_dataset(int_test_ds)\n"
      ],
      "metadata": {
        "id": "WCM08EpYl-F0"
      },
      "execution_count": 153,
      "outputs": []
    },
    {
      "cell_type": "code",
      "source": [
        "from tensorflow.keras import layers\n",
        "from tensorflow.keras import losses\n",
        "\n",
        "binary_model = tf.keras.Sequential([layers.Dense(2)])\n",
        "\n",
        "binary_model.compile(\n",
        "    loss=losses.SparseCategoricalCrossentropy(from_logits=True),\n",
        "    optimizer='adam',\n",
        "    metrics=['accuracy'])\n",
        "\n",
        "history = binary_model.fit(\n",
        "    binary_train_ds, validation_data=binary_val_ds, epochs=10)\n"
      ],
      "metadata": {
        "colab": {
          "base_uri": "https://localhost:8080/"
        },
        "id": "pSCiez_ymGUN",
        "outputId": "5a3aa3b8-aa64-40ce-96c4-01ef42aad689"
      },
      "execution_count": 154,
      "outputs": [
        {
          "output_type": "stream",
          "name": "stdout",
          "text": [
            "Epoch 1/10\n",
            "279/279 [==============================] - 2s 5ms/step - loss: 0.3535 - accuracy: 0.9135 - val_loss: 0.2427 - val_accuracy: 0.9422\n",
            "Epoch 2/10\n",
            "279/279 [==============================] - 1s 3ms/step - loss: 0.1671 - accuracy: 0.9681 - val_loss: 0.1809 - val_accuracy: 0.9503\n",
            "Epoch 3/10\n",
            "279/279 [==============================] - 2s 6ms/step - loss: 0.1172 - accuracy: 0.9771 - val_loss: 0.1549 - val_accuracy: 0.9516\n",
            "Epoch 4/10\n",
            "279/279 [==============================] - 1s 3ms/step - loss: 0.0907 - accuracy: 0.9840 - val_loss: 0.1408 - val_accuracy: 0.9570\n",
            "Epoch 5/10\n",
            "279/279 [==============================] - 1s 3ms/step - loss: 0.0736 - accuracy: 0.9870 - val_loss: 0.1322 - val_accuracy: 0.9624\n",
            "Epoch 6/10\n",
            "279/279 [==============================] - 1s 3ms/step - loss: 0.0615 - accuracy: 0.9896 - val_loss: 0.1266 - val_accuracy: 0.9610\n",
            "Epoch 7/10\n",
            "279/279 [==============================] - 1s 3ms/step - loss: 0.0524 - accuracy: 0.9922 - val_loss: 0.1228 - val_accuracy: 0.9624\n",
            "Epoch 8/10\n",
            "279/279 [==============================] - 1s 3ms/step - loss: 0.0453 - accuracy: 0.9937 - val_loss: 0.1203 - val_accuracy: 0.9610\n",
            "Epoch 9/10\n",
            "279/279 [==============================] - 1s 3ms/step - loss: 0.0396 - accuracy: 0.9947 - val_loss: 0.1186 - val_accuracy: 0.9610\n",
            "Epoch 10/10\n",
            "279/279 [==============================] - 1s 3ms/step - loss: 0.0348 - accuracy: 0.9957 - val_loss: 0.1175 - val_accuracy: 0.9597\n"
          ]
        }
      ]
    },
    {
      "cell_type": "code",
      "source": [
        "print(\"Linear model on binary vectorized data:\")\n",
        "print(binary_model.summary())\n"
      ],
      "metadata": {
        "colab": {
          "base_uri": "https://localhost:8080/"
        },
        "id": "icLtTTmkmy74",
        "outputId": "4db1383a-9da4-4c42-948f-8b2b80777e14"
      },
      "execution_count": 155,
      "outputs": [
        {
          "output_type": "stream",
          "name": "stdout",
          "text": [
            "Linear model on binary vectorized data:\n",
            "Model: \"sequential_7\"\n",
            "_________________________________________________________________\n",
            " Layer (type)                Output Shape              Param #   \n",
            "=================================================================\n",
            " dense_4 (Dense)             (None, 2)                 20002     \n",
            "                                                                 \n",
            "=================================================================\n",
            "Total params: 20,002\n",
            "Trainable params: 20,002\n",
            "Non-trainable params: 0\n",
            "_________________________________________________________________\n",
            "None\n"
          ]
        }
      ]
    },
    {
      "cell_type": "code",
      "source": [
        "def create_model(vocab_size, num_labels):\n",
        "  model = tf.keras.Sequential([\n",
        "      layers.Embedding(vocab_size, 64, mask_zero=True),\n",
        "      layers.Conv1D(64, 5, padding=\"valid\", activation=\"relu\", strides=2),\n",
        "      layers.GlobalMaxPooling1D(),\n",
        "      layers.Dense(num_labels)\n",
        "  ])\n",
        "  return model\n",
        "\n",
        "# `vocab_size` is `VOCAB_SIZE + 1` since `0` is used additionally for padding.\n",
        "int_model = create_model(vocab_size=VOCAB_SIZE + 1, num_labels=2)\n",
        "int_model.compile(\n",
        "    loss=losses.SparseCategoricalCrossentropy(from_logits=True),\n",
        "    optimizer='adam',\n",
        "    metrics=['accuracy'])\n",
        "history = int_model.fit(int_train_ds, validation_data=int_val_ds, epochs=5)\n"
      ],
      "metadata": {
        "colab": {
          "base_uri": "https://localhost:8080/"
        },
        "id": "NF6V3m4omlyK",
        "outputId": "3fb2029f-88b6-4393-f447-20967d4f5a0f"
      },
      "execution_count": 156,
      "outputs": [
        {
          "output_type": "stream",
          "name": "stdout",
          "text": [
            "Epoch 1/5\n",
            "279/279 [==============================] - 8s 28ms/step - loss: 0.3269 - accuracy: 0.8790 - val_loss: 0.1723 - val_accuracy: 0.9341\n",
            "Epoch 2/5\n",
            "279/279 [==============================] - 8s 27ms/step - loss: 0.0777 - accuracy: 0.9721 - val_loss: 0.1690 - val_accuracy: 0.9382\n",
            "Epoch 3/5\n",
            "279/279 [==============================] - 8s 28ms/step - loss: 0.0212 - accuracy: 0.9953 - val_loss: 0.2047 - val_accuracy: 0.9288\n",
            "Epoch 4/5\n",
            "279/279 [==============================] - 7s 27ms/step - loss: 0.0057 - accuracy: 0.9992 - val_loss: 0.2220 - val_accuracy: 0.9341\n",
            "Epoch 5/5\n",
            "279/279 [==============================] - 7s 26ms/step - loss: 0.0021 - accuracy: 0.9998 - val_loss: 0.2394 - val_accuracy: 0.9328\n"
          ]
        }
      ]
    },
    {
      "cell_type": "code",
      "source": [
        "print(\"ConvNet model on int vectorized data:\")\n",
        "print(int_model.summary())\n"
      ],
      "metadata": {
        "colab": {
          "base_uri": "https://localhost:8080/"
        },
        "id": "VB2a4zUum22e",
        "outputId": "255d5eb8-c140-4298-fbc6-f008549402f8"
      },
      "execution_count": 157,
      "outputs": [
        {
          "output_type": "stream",
          "name": "stdout",
          "text": [
            "ConvNet model on int vectorized data:\n",
            "Model: \"sequential_8\"\n",
            "_________________________________________________________________\n",
            " Layer (type)                Output Shape              Param #   \n",
            "=================================================================\n",
            " embedding_2 (Embedding)     (None, None, 64)          640064    \n",
            "                                                                 \n",
            " conv1d_2 (Conv1D)           (None, None, 64)          20544     \n",
            "                                                                 \n",
            " global_max_pooling1d_2 (Glo  (None, 64)               0         \n",
            " balMaxPooling1D)                                                \n",
            "                                                                 \n",
            " dense_5 (Dense)             (None, 2)                 130       \n",
            "                                                                 \n",
            "=================================================================\n",
            "Total params: 660,738\n",
            "Trainable params: 660,738\n",
            "Non-trainable params: 0\n",
            "_________________________________________________________________\n",
            "None\n"
          ]
        }
      ]
    },
    {
      "cell_type": "code",
      "source": [
        "binary_loss, binary_accuracy = binary_model.evaluate(binary_test_ds)\n",
        "int_loss, int_accuracy = int_model.evaluate(int_test_ds)\n",
        "\n",
        "print(\"Binary model accuracy: {:2.2%}\".format(binary_accuracy))\n",
        "print(\"Int model accuracy: {:2.2%}\".format(int_accuracy))\n"
      ],
      "metadata": {
        "colab": {
          "base_uri": "https://localhost:8080/"
        },
        "id": "z0ZYEd-um4x3",
        "outputId": "86d76b11-48e3-440b-a4b9-fbec91e7929b"
      },
      "execution_count": 158,
      "outputs": [
        {
          "output_type": "stream",
          "name": "stdout",
          "text": [
            "70/70 [==============================] - 0s 3ms/step - loss: 0.1044 - accuracy: 0.9597\n",
            "70/70 [==============================] - 1s 7ms/step - loss: 0.1908 - accuracy: 0.9418\n",
            "Binary model accuracy: 95.97%\n",
            "Int model accuracy: 94.18%\n"
          ]
        }
      ]
    },
    {
      "cell_type": "code",
      "source": [
        "export_model = tf.keras.Sequential(\n",
        "    [binary_vectorize_layer, binary_model,\n",
        "     layers.Activation('softmax')])\n",
        "\n",
        "export_model.compile(\n",
        "    loss=losses.SparseCategoricalCrossentropy(from_logits=False),\n",
        "    optimizer='adam',\n",
        "    metrics=['accuracy'])\n",
        "\n",
        "# Test it with `raw_test_ds`, which yields raw strings\n",
        "loss, accuracy = export_model.evaluate(raw_test_ds)\n",
        "print(\"Accuracy: {:2.2%}\".format(binary_accuracy))\n"
      ],
      "metadata": {
        "colab": {
          "base_uri": "https://localhost:8080/"
        },
        "id": "KMaWS1Xfm5UW",
        "outputId": "66c52102-660b-4a0d-a039-8a972f983a20"
      },
      "execution_count": 159,
      "outputs": [
        {
          "output_type": "stream",
          "name": "stdout",
          "text": [
            "70/70 [==============================] - 0s 3ms/step - loss: 0.1044 - accuracy: 0.9597\n",
            "Accuracy: 95.97%\n"
          ]
        }
      ]
    },
    {
      "cell_type": "code",
      "source": [
        "def get_string_labels(predicted_scores_batch):\n",
        "  predicted_int_labels = tf.argmax(predicted_scores_batch, axis=1)\n",
        "  # predicted_labels = tf.gather(raw_train_ds, predicted_int_labels)\n",
        "  # print(predicted_int_labels)\n",
        "  return predicted_int_labels\n"
      ],
      "metadata": {
        "id": "S4-_m9zZnCmp"
      },
      "execution_count": 160,
      "outputs": []
    },
    {
      "cell_type": "code",
      "source": [
        "inputs = [\n",
        "    news_data.text[1]\n",
        "]\n",
        "\n",
        "predicted_scores = export_model.predict(inputs)\n",
        "# predicted_labels = get_string_labels(predicted_scores)\n",
        "print(predicted_scores[0][0])\n",
        "print(news_data.label[1])\n"
      ],
      "metadata": {
        "colab": {
          "base_uri": "https://localhost:8080/"
        },
        "id": "xvcyvHI1nDNy",
        "outputId": "864ca75b-523f-46d9-b81c-e2fcfb2f6172"
      },
      "execution_count": 167,
      "outputs": [
        {
          "output_type": "stream",
          "name": "stdout",
          "text": [
            "0.81457835\n",
            "0\n"
          ]
        }
      ]
    },
    {
      "cell_type": "code",
      "source": [
        "export_model.save('/content/drive/MyDrive/Mentorama/projeto_final/modelo_final_0')"
      ],
      "metadata": {
        "id": "KiAJVtoTus-B"
      },
      "execution_count": 164,
      "outputs": []
    },
    {
      "cell_type": "code",
      "source": [],
      "metadata": {
        "id": "nSSKOnNmwOIU"
      },
      "execution_count": null,
      "outputs": []
    },
    {
      "cell_type": "markdown",
      "source": [
        "#### Save to production"
      ],
      "metadata": {
        "id": "_1c4f6I_yD8y"
      }
    },
    {
      "cell_type": "code",
      "source": [
        "from joblib import dump, load"
      ],
      "metadata": {
        "id": "CCd0UjiOyF00"
      },
      "execution_count": 149,
      "outputs": []
    },
    {
      "cell_type": "code",
      "source": [
        "dump(export_model, '/content/drive/MyDrive/Mentorama/projeto_final/fake-detector_v0.joblib')"
      ],
      "metadata": {
        "colab": {
          "base_uri": "https://localhost:8080/"
        },
        "id": "0xXo8wLryIgs",
        "outputId": "2747ab8b-5427-429a-c3d9-84f35007886d"
      },
      "execution_count": 165,
      "outputs": [
        {
          "output_type": "execute_result",
          "data": {
            "text/plain": [
              "['/content/drive/MyDrive/Mentorama/projeto_final/fake-detector_v0.joblib']"
            ]
          },
          "metadata": {},
          "execution_count": 165
        }
      ]
    },
    {
      "cell_type": "code",
      "source": [],
      "metadata": {
        "id": "IyrQRe3KyYnd"
      },
      "execution_count": null,
      "outputs": []
    }
  ]
}